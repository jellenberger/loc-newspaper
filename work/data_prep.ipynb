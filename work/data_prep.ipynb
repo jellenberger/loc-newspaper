{
 "cells": [
  {
   "cell_type": "code",
   "execution_count": 1,
   "metadata": {},
   "outputs": [],
   "source": [
    "%reload_ext autoreload\n",
    "%autoreload 2\n",
    "%matplotlib inline"
   ]
  },
  {
   "cell_type": "code",
   "execution_count": 2,
   "metadata": {},
   "outputs": [],
   "source": [
    "import hashlib\n",
    "import json\n",
    "from pathlib import Path\n",
    "from PIL import image\n",
    "\n",
    "import numpy as np\n",
    "import matplotlib.pyplot as plt\n",
    "import pandas as pd\n",
    "import requests\n",
    "import pyjq\n",
    "from tqdm import tqdm_notebook as tqdm\n",
    "from fastai.vision import verify_images"
   ]
  },
  {
   "cell_type": "code",
   "execution_count": 3,
   "metadata": {},
   "outputs": [],
   "source": [
    "dataroot = Path('../data').resolve()"
   ]
  },
  {
   "cell_type": "markdown",
   "metadata": {},
   "source": [
    "## Image metadata"
   ]
  },
  {
   "cell_type": "markdown",
   "metadata": {},
   "source": [
    "First, we download the metadata that describes selections from the newspaper images and their categories."
   ]
  },
  {
   "cell_type": "code",
   "execution_count": 4,
   "metadata": {},
   "outputs": [],
   "source": [
    "mfilepath = dataroot / 'metadata.json'\n",
    "\n",
    "if not mfilepath.is_file(): # download only if data doesn't exist\n",
    "    url = 'http://beyondwords.labs.loc.gov/data'\n",
    "    with requests.get(url) as r:\n",
    "        with open(mfilepath, 'wt', encoding='utf-8') as f:\n",
    "            f.write(r.text)"
   ]
  },
  {
   "cell_type": "code",
   "execution_count": 5,
   "metadata": {},
   "outputs": [],
   "source": [
    "with open(mfilepath) as f:\n",
    "    mdata = json.load(f)"
   ]
  },
  {
   "cell_type": "markdown",
   "metadata": {},
   "source": [
    "We'll use [pyjq](https://github.com/doloopwhile/pyjq), a Python wrapper for the mighty [jq](https://stedolan.github.io/jq/), to flatten the JSON and include only the values we're interested in. The flattened JSON will be much easier to work with.\n",
    "\n",
    "One complication with this particular dataset is that the `category` key is sometimes found directly under the `data` key and sometimes a couple of levels deeper. We'll try to grab it in both locations give the results different names, `category1` and `category2`, and sort them out later. jq's `$` qualifier lets us reference keys that might be missing."
   ]
  },
  {
   "cell_type": "code",
   "execution_count": 6,
   "metadata": {},
   "outputs": [],
   "source": [
    "# use jq to grab the attributes we need\n",
    "jqs = \"\"\"\n",
    ".data?[] | {\n",
    "    reg_x: .region.x,\n",
    "    reg_y: .region.y,\n",
    "    reg_w: .region.width,\n",
    "    reg_h: .region.height,\n",
    "    category1: .data.category?,\n",
    "    category2: .data?.values?[0].category?,\n",
    "    img_w: .width,\n",
    "    img_h: .height,\n",
    "    img_url: .location.standard\n",
    "}\n",
    "\"\"\"\n",
    "imgdata = pyjq.all(jqs, mdata)"
   ]
  },
  {
   "cell_type": "markdown",
   "metadata": {},
   "source": [
    "Let's pull the modified JSON into a DataFrame and take a look."
   ]
  },
  {
   "cell_type": "code",
   "execution_count": 7,
   "metadata": {
    "scrolled": false
   },
   "outputs": [],
   "source": [
    "mdf = pd.DataFrame(imgdata)"
   ]
  },
  {
   "cell_type": "code",
   "execution_count": 8,
   "metadata": {},
   "outputs": [
    {
     "data": {
      "text/html": [
       "<div>\n",
       "<style scoped>\n",
       "    .dataframe tbody tr th:only-of-type {\n",
       "        vertical-align: middle;\n",
       "    }\n",
       "\n",
       "    .dataframe tbody tr th {\n",
       "        vertical-align: top;\n",
       "    }\n",
       "\n",
       "    .dataframe thead th {\n",
       "        text-align: right;\n",
       "    }\n",
       "</style>\n",
       "<table border=\"1\" class=\"dataframe\">\n",
       "  <thead>\n",
       "    <tr style=\"text-align: right;\">\n",
       "      <th></th>\n",
       "      <th>reg_x</th>\n",
       "      <th>reg_y</th>\n",
       "      <th>reg_w</th>\n",
       "      <th>reg_h</th>\n",
       "      <th>category1</th>\n",
       "      <th>category2</th>\n",
       "      <th>img_w</th>\n",
       "      <th>img_h</th>\n",
       "      <th>img_url</th>\n",
       "    </tr>\n",
       "  </thead>\n",
       "  <tbody>\n",
       "    <tr>\n",
       "      <th>0</th>\n",
       "      <td>503.305527</td>\n",
       "      <td>2087.549874</td>\n",
       "      <td>2500.109304</td>\n",
       "      <td>2970.426698</td>\n",
       "      <td>Illustration</td>\n",
       "      <td>None</td>\n",
       "      <td>8936</td>\n",
       "      <td>12536</td>\n",
       "      <td>http://s3.amazonaws.com/ndnp-jpeg-surrogates/i...</td>\n",
       "    </tr>\n",
       "    <tr>\n",
       "      <th>1</th>\n",
       "      <td>972.575746</td>\n",
       "      <td>4640.102984</td>\n",
       "      <td>1787.148838</td>\n",
       "      <td>2780.009299</td>\n",
       "      <td>None</td>\n",
       "      <td>Photograph</td>\n",
       "      <td>6334</td>\n",
       "      <td>8362</td>\n",
       "      <td>http://s3.amazonaws.com/ndnp-jpeg-surrogates/d...</td>\n",
       "    </tr>\n",
       "    <tr>\n",
       "      <th>2</th>\n",
       "      <td>2466.295432</td>\n",
       "      <td>1936.944440</td>\n",
       "      <td>773.975688</td>\n",
       "      <td>1772.524726</td>\n",
       "      <td>None</td>\n",
       "      <td>Photograph</td>\n",
       "      <td>6268</td>\n",
       "      <td>8349</td>\n",
       "      <td>http://s3.amazonaws.com/ndnp-jpeg-surrogates/d...</td>\n",
       "    </tr>\n",
       "    <tr>\n",
       "      <th>3</th>\n",
       "      <td>1169.948708</td>\n",
       "      <td>1866.483282</td>\n",
       "      <td>1724.344889</td>\n",
       "      <td>2027.322461</td>\n",
       "      <td>None</td>\n",
       "      <td>Photograph</td>\n",
       "      <td>4208</td>\n",
       "      <td>5384</td>\n",
       "      <td>http://s3.amazonaws.com/ndnp-jpeg-surrogates/u...</td>\n",
       "    </tr>\n",
       "    <tr>\n",
       "      <th>4</th>\n",
       "      <td>4687.836735</td>\n",
       "      <td>2369.451019</td>\n",
       "      <td>924.290249</td>\n",
       "      <td>2134.548688</td>\n",
       "      <td>Photograph</td>\n",
       "      <td>None</td>\n",
       "      <td>6756</td>\n",
       "      <td>9297</td>\n",
       "      <td>http://s3.amazonaws.com/ndnp-jpeg-surrogates/u...</td>\n",
       "    </tr>\n",
       "  </tbody>\n",
       "</table>\n",
       "</div>"
      ],
      "text/plain": [
       "         reg_x        reg_y        reg_w        reg_h     category1  \\\n",
       "0   503.305527  2087.549874  2500.109304  2970.426698  Illustration   \n",
       "1   972.575746  4640.102984  1787.148838  2780.009299          None   \n",
       "2  2466.295432  1936.944440   773.975688  1772.524726          None   \n",
       "3  1169.948708  1866.483282  1724.344889  2027.322461          None   \n",
       "4  4687.836735  2369.451019   924.290249  2134.548688    Photograph   \n",
       "\n",
       "    category2  img_w  img_h                                            img_url  \n",
       "0        None   8936  12536  http://s3.amazonaws.com/ndnp-jpeg-surrogates/i...  \n",
       "1  Photograph   6334   8362  http://s3.amazonaws.com/ndnp-jpeg-surrogates/d...  \n",
       "2  Photograph   6268   8349  http://s3.amazonaws.com/ndnp-jpeg-surrogates/d...  \n",
       "3  Photograph   4208   5384  http://s3.amazonaws.com/ndnp-jpeg-surrogates/u...  \n",
       "4        None   6756   9297  http://s3.amazonaws.com/ndnp-jpeg-surrogates/u...  "
      ]
     },
     "execution_count": 8,
     "metadata": {},
     "output_type": "execute_result"
    }
   ],
   "source": [
    "mdf.head(5)"
   ]
  },
  {
   "cell_type": "code",
   "execution_count": 9,
   "metadata": {},
   "outputs": [
    {
     "data": {
      "text/plain": [
       "reg_x        2173\n",
       "reg_y        2173\n",
       "reg_w        2173\n",
       "reg_h        2173\n",
       "category1    1368\n",
       "category2     787\n",
       "img_w        2173\n",
       "img_h        2173\n",
       "img_url      2173\n",
       "dtype: int64"
      ]
     },
     "execution_count": 9,
     "metadata": {},
     "output_type": "execute_result"
    }
   ],
   "source": [
    "mdf.count()"
   ]
  },
  {
   "cell_type": "markdown",
   "metadata": {},
   "source": [
    "Looks good, but our categories are divided between `category1` and `category2`. Let's generate a new column `label` that contains the value from whichever column is not blank. We'll be calling the categories labels from now on out, since that's the usual lingo in deep learning."
   ]
  },
  {
   "cell_type": "code",
   "execution_count": 10,
   "metadata": {},
   "outputs": [],
   "source": [
    "mdf['label'] = mdf.apply(lambda x: x['category1'] if x['category1'] else x['category2'], axis=1)"
   ]
  },
  {
   "cell_type": "code",
   "execution_count": 11,
   "metadata": {},
   "outputs": [],
   "source": [
    "mdf.drop(['category1', 'category2'], axis=1, inplace=True)"
   ]
  },
  {
   "cell_type": "markdown",
   "metadata": {},
   "source": [
    "Each row in our data represents a selection from an image, which means that more than one row can refer to the same image. We need a way to give a unique identifier to each image so that we can group rows by image. An MD5 hash of the image url will work for this, since each image has one unique url and therefore one unique MD5 hash of the url."
   ]
  },
  {
   "cell_type": "code",
   "execution_count": 12,
   "metadata": {},
   "outputs": [],
   "source": [
    "# helper function to create MD5 hash from a string\n",
    "def hash_str(s):\n",
    "    return hashlib.md5(s.encode('utf-8')).hexdigest()\n",
    "\n",
    "# add column that is the hash of the image url\n",
    "mdf['img_url_hash'] = mdf.apply(lambda x: hash_str(x['img_url']), axis=1)"
   ]
  },
  {
   "cell_type": "code",
   "execution_count": 13,
   "metadata": {},
   "outputs": [
    {
     "data": {
      "text/plain": [
       "Photograph           1392\n",
       "Illustration          428\n",
       "Comics/Cartoon        237\n",
       "Editorial Cartoon      74\n",
       "Map                    24\n",
       "NaN                    18\n",
       "Name: label, dtype: int64"
      ]
     },
     "execution_count": 13,
     "metadata": {},
     "output_type": "execute_result"
    }
   ],
   "source": [
    "mdf['label'].value_counts(dropna=False)"
   ]
  },
  {
   "cell_type": "code",
   "execution_count": 14,
   "metadata": {},
   "outputs": [
    {
     "data": {
      "text/html": [
       "<div>\n",
       "<style scoped>\n",
       "    .dataframe tbody tr th:only-of-type {\n",
       "        vertical-align: middle;\n",
       "    }\n",
       "\n",
       "    .dataframe tbody tr th {\n",
       "        vertical-align: top;\n",
       "    }\n",
       "\n",
       "    .dataframe thead th {\n",
       "        text-align: right;\n",
       "    }\n",
       "</style>\n",
       "<table border=\"1\" class=\"dataframe\">\n",
       "  <thead>\n",
       "    <tr style=\"text-align: right;\">\n",
       "      <th></th>\n",
       "      <th>reg_x</th>\n",
       "      <th>reg_y</th>\n",
       "      <th>reg_w</th>\n",
       "      <th>reg_h</th>\n",
       "      <th>img_w</th>\n",
       "      <th>img_h</th>\n",
       "      <th>img_url</th>\n",
       "      <th>label</th>\n",
       "      <th>img_url_hash</th>\n",
       "    </tr>\n",
       "  </thead>\n",
       "  <tbody>\n",
       "    <tr>\n",
       "      <th>0</th>\n",
       "      <td>503.305527</td>\n",
       "      <td>2087.549874</td>\n",
       "      <td>2500.109304</td>\n",
       "      <td>2970.426698</td>\n",
       "      <td>8936</td>\n",
       "      <td>12536</td>\n",
       "      <td>http://s3.amazonaws.com/ndnp-jpeg-surrogates/i...</td>\n",
       "      <td>Illustration</td>\n",
       "      <td>92bd856d1492f988eb113bc44f271dc3</td>\n",
       "    </tr>\n",
       "    <tr>\n",
       "      <th>1</th>\n",
       "      <td>972.575746</td>\n",
       "      <td>4640.102984</td>\n",
       "      <td>1787.148838</td>\n",
       "      <td>2780.009299</td>\n",
       "      <td>6334</td>\n",
       "      <td>8362</td>\n",
       "      <td>http://s3.amazonaws.com/ndnp-jpeg-surrogates/d...</td>\n",
       "      <td>Photograph</td>\n",
       "      <td>74a406caa9af5c8d1d2e5a3333a27e82</td>\n",
       "    </tr>\n",
       "    <tr>\n",
       "      <th>2</th>\n",
       "      <td>2466.295432</td>\n",
       "      <td>1936.944440</td>\n",
       "      <td>773.975688</td>\n",
       "      <td>1772.524726</td>\n",
       "      <td>6268</td>\n",
       "      <td>8349</td>\n",
       "      <td>http://s3.amazonaws.com/ndnp-jpeg-surrogates/d...</td>\n",
       "      <td>Photograph</td>\n",
       "      <td>b509e86350b8a6469b425a4969dd3ff3</td>\n",
       "    </tr>\n",
       "  </tbody>\n",
       "</table>\n",
       "</div>"
      ],
      "text/plain": [
       "         reg_x        reg_y        reg_w        reg_h  img_w  img_h  \\\n",
       "0   503.305527  2087.549874  2500.109304  2970.426698   8936  12536   \n",
       "1   972.575746  4640.102984  1787.148838  2780.009299   6334   8362   \n",
       "2  2466.295432  1936.944440   773.975688  1772.524726   6268   8349   \n",
       "\n",
       "                                             img_url         label  \\\n",
       "0  http://s3.amazonaws.com/ndnp-jpeg-surrogates/i...  Illustration   \n",
       "1  http://s3.amazonaws.com/ndnp-jpeg-surrogates/d...    Photograph   \n",
       "2  http://s3.amazonaws.com/ndnp-jpeg-surrogates/d...    Photograph   \n",
       "\n",
       "                       img_url_hash  \n",
       "0  92bd856d1492f988eb113bc44f271dc3  \n",
       "1  74a406caa9af5c8d1d2e5a3333a27e82  \n",
       "2  b509e86350b8a6469b425a4969dd3ff3  "
      ]
     },
     "execution_count": 14,
     "metadata": {},
     "output_type": "execute_result"
    }
   ],
   "source": [
    "mdf.head(3)"
   ]
  },
  {
   "cell_type": "markdown",
   "metadata": {},
   "source": [
    "Now the dataset looks pretty good. We'll save it as a csv and move on."
   ]
  },
  {
   "cell_type": "code",
   "execution_count": 15,
   "metadata": {},
   "outputs": [],
   "source": [
    "# save image data as a csv\n",
    "csvfilepath = dataroot / 'img_data.csv'\n",
    "mdf.to_csv(csvfilepath, index=False, encoding='utf-8')"
   ]
  },
  {
   "cell_type": "markdown",
   "metadata": {},
   "source": [
    "## Labels"
   ]
  },
  {
   "cell_type": "markdown",
   "metadata": {},
   "source": [
    "We now have a dataset with one label per row, and we might need to look at multiple rows to find all the labels that apply to one image. For multi-image classification, we want to group all of the labels together in one row, so that each image is represented by one row that tells us all of the labels that apply.\n",
    "\n",
    "We'll do this by grouping the rows by image identifier, then joining all of the labels in each group into a single string. While we're doing this, we'll clean up the label names a bit."
   ]
  },
  {
   "cell_type": "code",
   "execution_count": 32,
   "metadata": {},
   "outputs": [],
   "source": [
    "# helper function to join and clean up labels\n",
    "def labelstr(obj):\n",
    "    s = ' '.join(set(obj.astype(str)))\n",
    "    s = s.replace('Editorial Cartoon', 'Ed_Cartoon')\n",
    "    s = s.replace('Comics/Cartoon', 'Comic')\n",
    "    s = s.lower().strip()\n",
    "    return s\n",
    "\n",
    "# group by image and apply our helper function to the labels\n",
    "ldf = (\n",
    "    mdf\n",
    "    .groupby('img_url_hash')['label']\n",
    "    .apply(lambda x: labelstr(x))\n",
    "    .to_frame()\n",
    "    .reset_index()\n",
    ")\n",
    "\n",
    "# rename columns\n",
    "ldf.columns = ['id', 'labels']"
   ]
  },
  {
   "cell_type": "code",
   "execution_count": 33,
   "metadata": {},
   "outputs": [
    {
     "data": {
      "text/plain": [
       "id        1327\n",
       "labels    1327\n",
       "dtype: int64"
      ]
     },
     "execution_count": 33,
     "metadata": {},
     "output_type": "execute_result"
    }
   ],
   "source": [
    "ldf.count()"
   ]
  },
  {
   "cell_type": "code",
   "execution_count": 34,
   "metadata": {},
   "outputs": [
    {
     "data": {
      "text/plain": [
       "photograph                                       799\n",
       "illustration                                     202\n",
       "comic                                             99\n",
       "illustration photograph                           85\n",
       "ed_cartoon                                        44\n",
       "comic photograph                                  24\n",
       "map                                               18\n",
       "illustration comic photograph                      6\n",
       "none photograph                                    6\n",
       "none                                               6\n",
       "illustration ed_cartoon                            5\n",
       "comic ed_cartoon                                   5\n",
       "illustration comic                                 5\n",
       "illustration comic ed_cartoon                      4\n",
       "ed_cartoon photograph                              4\n",
       "comic none                                         2\n",
       "map photograph                                     2\n",
       "comic ed_cartoon photograph                        1\n",
       "map photograph ed_cartoon                          1\n",
       "map illustration                                   1\n",
       "comic photograph ed_cartoon                        1\n",
       "illustration none photograph                       1\n",
       "illustration ed_cartoon photograph                 1\n",
       "map illustration photograph                        1\n",
       "map none photograph                                1\n",
       "illustration photograph comic none ed_cartoon      1\n",
       "photograph ed_cartoon                              1\n",
       "illustration photograph ed_cartoon                 1\n",
       "Name: labels, dtype: int64"
      ]
     },
     "execution_count": 34,
     "metadata": {},
     "output_type": "execute_result"
    }
   ],
   "source": [
    "ldf['labels'].value_counts()"
   ]
  },
  {
   "cell_type": "markdown",
   "metadata": {},
   "source": [
    "For new, let's get rid of the items that have 'none' in the labels, since we're not sure what this means. "
   ]
  },
  {
   "cell_type": "code",
   "execution_count": 38,
   "metadata": {},
   "outputs": [],
   "source": [
    "ldf = ldf[~ldf['labels'].str.contains('none')]"
   ]
  },
  {
   "cell_type": "code",
   "execution_count": 39,
   "metadata": {},
   "outputs": [
    {
     "data": {
      "text/plain": [
       "photograph                            799\n",
       "illustration                          202\n",
       "comic                                  99\n",
       "illustration photograph                85\n",
       "ed_cartoon                             44\n",
       "comic photograph                       24\n",
       "map                                    18\n",
       "illustration comic photograph           6\n",
       "illustration comic                      5\n",
       "illustration ed_cartoon                 5\n",
       "comic ed_cartoon                        5\n",
       "illustration comic ed_cartoon           4\n",
       "ed_cartoon photograph                   4\n",
       "map photograph                          2\n",
       "illustration photograph ed_cartoon      1\n",
       "illustration ed_cartoon photograph      1\n",
       "comic ed_cartoon photograph             1\n",
       "map photograph ed_cartoon               1\n",
       "map illustration                        1\n",
       "comic photograph ed_cartoon             1\n",
       "map illustration photograph             1\n",
       "photograph ed_cartoon                   1\n",
       "Name: labels, dtype: int64"
      ]
     },
     "execution_count": 39,
     "metadata": {},
     "output_type": "execute_result"
    }
   ],
   "source": [
    "ldf['labels'].value_counts()"
   ]
  },
  {
   "cell_type": "code",
   "execution_count": 40,
   "metadata": {},
   "outputs": [
    {
     "data": {
      "text/html": [
       "<div>\n",
       "<style scoped>\n",
       "    .dataframe tbody tr th:only-of-type {\n",
       "        vertical-align: middle;\n",
       "    }\n",
       "\n",
       "    .dataframe tbody tr th {\n",
       "        vertical-align: top;\n",
       "    }\n",
       "\n",
       "    .dataframe thead th {\n",
       "        text-align: right;\n",
       "    }\n",
       "</style>\n",
       "<table border=\"1\" class=\"dataframe\">\n",
       "  <thead>\n",
       "    <tr style=\"text-align: right;\">\n",
       "      <th></th>\n",
       "      <th>id</th>\n",
       "      <th>labels</th>\n",
       "    </tr>\n",
       "  </thead>\n",
       "  <tbody>\n",
       "    <tr>\n",
       "      <th>0</th>\n",
       "      <td>0016af005540341d896923265a80c3b6</td>\n",
       "      <td>map</td>\n",
       "    </tr>\n",
       "    <tr>\n",
       "      <th>1</th>\n",
       "      <td>002d4d8d6a00aea0eb5c0db25feef011</td>\n",
       "      <td>photograph</td>\n",
       "    </tr>\n",
       "    <tr>\n",
       "      <th>2</th>\n",
       "      <td>00315cd56b0932d1a2511a5a5c408b79</td>\n",
       "      <td>illustration</td>\n",
       "    </tr>\n",
       "    <tr>\n",
       "      <th>3</th>\n",
       "      <td>004c143ad20bc6ec664eb9368b763e20</td>\n",
       "      <td>illustration photograph</td>\n",
       "    </tr>\n",
       "    <tr>\n",
       "      <th>4</th>\n",
       "      <td>006aed5b166ab85682ccdd7c86f80bd0</td>\n",
       "      <td>photograph</td>\n",
       "    </tr>\n",
       "  </tbody>\n",
       "</table>\n",
       "</div>"
      ],
      "text/plain": [
       "                                 id                   labels\n",
       "0  0016af005540341d896923265a80c3b6                      map\n",
       "1  002d4d8d6a00aea0eb5c0db25feef011               photograph\n",
       "2  00315cd56b0932d1a2511a5a5c408b79             illustration\n",
       "3  004c143ad20bc6ec664eb9368b763e20  illustration photograph\n",
       "4  006aed5b166ab85682ccdd7c86f80bd0               photograph"
      ]
     },
     "execution_count": 40,
     "metadata": {},
     "output_type": "execute_result"
    }
   ],
   "source": [
    "ldf.head()"
   ]
  },
  {
   "cell_type": "code",
   "execution_count": 41,
   "metadata": {},
   "outputs": [],
   "source": [
    "ldf.to_csv(dataroot / 'labels.csv', index=False)"
   ]
  },
  {
   "cell_type": "markdown",
   "metadata": {},
   "source": [
    "## Get Images"
   ]
  },
  {
   "cell_type": "markdown",
   "metadata": {},
   "source": [
    "Now, we'll download the images using the image urls in the metadata. Since we know images are referenced more than once, we won't download images that already have been downloaded. "
   ]
  },
  {
   "cell_type": "code",
   "execution_count": 42,
   "metadata": {},
   "outputs": [],
   "source": [
    "imgroot = dataroot / 'original_images'"
   ]
  },
  {
   "cell_type": "code",
   "execution_count": 43,
   "metadata": {},
   "outputs": [],
   "source": [
    "for row in mdf.iterrows():\n",
    "    url = row[1].img_url\n",
    "    fname = row[1].img_url_hash + '.jpg'\n",
    "    fpath = imgroot / fname\n",
    "    if fpath.is_file():\n",
    "        continue\n",
    "    with requests.get(url, stream=True) as r:\n",
    "        with open(fpath, 'wb') as f:\n",
    "            for chunk in r.iter_content(chunk_size=8192): \n",
    "                if chunk:\n",
    "                    f.write(chunk)\n"
   ]
  },
  {
   "cell_type": "markdown",
   "metadata": {},
   "source": [
    "Let's check the number of images that we've downloaded and take a look at their sizes."
   ]
  },
  {
   "cell_type": "code",
   "execution_count": 23,
   "metadata": {},
   "outputs": [
    {
     "data": {
      "text/plain": [
       "1327"
      ]
     },
     "execution_count": 23,
     "metadata": {},
     "output_type": "execute_result"
    }
   ],
   "source": [
    "len(list(imgroot.glob('*.jpg')))"
   ]
  },
  {
   "cell_type": "code",
   "execution_count": 24,
   "metadata": {},
   "outputs": [
    {
     "data": {
      "image/png": "[encoded data removed]",
      "text/plain": [
       "<Figure size 432x288 with 1 Axes>"
      ]
     },
     "metadata": {
      "needs_background": "light"
     },
     "output_type": "display_data"
    }
   ],
   "source": [
    "# show image sizes\n",
    "_ = mdf.plot.scatter(x='img_w', y='img_h')"
   ]
  },
  {
   "cell_type": "markdown",
   "metadata": {},
   "source": [
    "The original images are far bigger than we need for deep learning. We'll downsize them to a size just a little bit bigger than the maximum size we need. This will substantially decrease the overhead of resizing the images on the fly during training. It also means a quicker data uploads to our cloud GPU instance. \n",
    "\n",
    "Fastai's `verify_images` is intended for just this purpose, among other things. By default, it will also convert our one-channel grayscale images to three-channel RGB images, which our pretrained deep learning models will expect."
   ]
  },
  {
   "cell_type": "code",
   "execution_count": 25,
   "metadata": {},
   "outputs": [
    {
     "data": {
      "text/html": [
       "\n",
       "    <div>\n",
       "        <style>\n",
       "            /* Turns off some styling */\n",
       "            progress {\n",
       "                /* gets rid of default border in Firefox and Opera. */\n",
       "                border: none;\n",
       "                /* Needs to be in here for Safari polyfill so background images work as expected. */\n",
       "                background-size: auto;\n",
       "            }\n",
       "            .progress-bar-interrupted, .progress-bar-interrupted::-webkit-progress-bar {\n",
       "                background: #F44336;\n",
       "            }\n",
       "        </style>\n",
       "      <progress value='1327' class='' max='1327', style='width:300px; height:20px; vertical-align: middle;'></progress>\n",
       "      100.00% [1327/1327 05:24<00:00]\n",
       "    </div>\n",
       "    "
      ],
      "text/plain": [
       "<IPython.core.display.HTML object>"
      ]
     },
     "metadata": {},
     "output_type": "display_data"
    }
   ],
   "source": [
    "# suppress PIL warning for very large images\n",
    "from PIL import Image\n",
    "Image.MAX_IMAGE_PIXELS = 1000000000\n",
    "\n",
    "# resize as needed\n",
    "imgoutroot = dataroot / 'images'\n",
    "verify_images(imgroot, delete=False, max_size=600, dest=imgoutroot)"
   ]
  },
  {
   "cell_type": "code",
   "execution_count": 26,
   "metadata": {},
   "outputs": [
    {
     "data": {
      "text/plain": [
       "1327"
      ]
     },
     "execution_count": 26,
     "metadata": {},
     "output_type": "execute_result"
    }
   ],
   "source": [
    "len(list(imgoutroot.glob('*.jpg')))"
   ]
  },
  {
   "cell_type": "code",
   "execution_count": 27,
   "metadata": {},
   "outputs": [
    {
     "data": {
      "text/plain": [
       "True"
      ]
     },
     "execution_count": 27,
     "metadata": {},
     "output_type": "execute_result"
    }
   ],
   "source": [
    "# check for missing images -- original image names are the same as the resized ones \n",
    "orig_names = set([p.stem for p in imgoutroot.glob('*.jpg')])\n",
    "new_names = set([p.stem for p in imgroot.glob('*.jpg')])\n",
    "len(orig_names ^ new_names) == 0"
   ]
  },
  {
   "cell_type": "code",
   "execution_count": null,
   "metadata": {},
   "outputs": [],
   "source": []
  }
 ],
 "metadata": {
  "kernelspec": {
   "display_name": "Python 3",
   "language": "python",
   "name": "python3"
  },
  "language_info": {
   "codemirror_mode": {
    "name": "ipython",
    "version": 3
   },
   "file_extension": ".py",
   "mimetype": "text/x-python",
   "name": "python",
   "nbconvert_exporter": "python",
   "pygments_lexer": "ipython3",
   "version": "3.7.1"
  }
 },
 "nbformat": 4,
 "nbformat_minor": 2
}
