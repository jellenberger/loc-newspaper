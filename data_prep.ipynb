{
 "cells": [
  {
   "cell_type": "code",
   "execution_count": 24,
   "metadata": {},
   "outputs": [],
   "source": [
    "import json\n",
    "\n",
    "import pandas as pd\n",
    "\n",
    "from pandas.io.json import json_normalize\n",
    "from sqlalchemy import create_engine"
   ]
  },
  {
   "cell_type": "code",
   "execution_count": 25,
   "metadata": {},
   "outputs": [],
   "source": [
    "with open('data/data.json') as jsonfile:\n",
    "    data = json.load(jsonfile)['data']"
   ]
  },
  {
   "cell_type": "code",
   "execution_count": 26,
   "metadata": {},
   "outputs": [
    {
     "data": {
      "text/plain": [
       "[{'id': '5b3e1972d6342b00010020de',\n",
       "  'location': {'standard': 'http://s3.amazonaws.com/ndnp-jpeg-surrogates/iune_edition_ver02/data/sn92053934/00295872640/1917050701/0084.jpg'},\n",
       "  'region': {'toolName': 'rectangleTool',\n",
       "   'color': '#fe0000',\n",
       "   'x': 810.293696532371,\n",
       "   'y': 318.0028157678859,\n",
       "   'width': 838.3594507992422,\n",
       "   'height': 2522.340515977095,\n",
       "   'label': 'Illustration/Photo'},\n",
       "  'width': 5912,\n",
       "  'height': 7667,\n",
       "  'meta_data': {'set_key': 'http://chroniclingamerica.loc.gov/lccn/sn92053934/1917-05-07/ed-1/seq-7/',\n",
       "   'subject_url': 'http://chroniclingamerica.loc.gov/lccn/sn92053934/1917-05-07/ed-1/seq-7/',\n",
       "   'subject_description': 'Rock Island Argus. May 07, 1917. Page 7',\n",
       "   'resize': '1.000000',\n",
       "   'alto': 'http://s3.amazonaws.com/ndnp-batches/iune_edition_ver02/data/sn92053934/00295872640/1917050701/0084.xml'},\n",
       "  'data': {'caption': 'NOTED BRITISHER WITH COMMISSION\\nMaj. Gen. G. T. M. Bridges\\nMaj. Gen. G. T. M. Bridges, chief military representative of the British commission in Washington, has a distinguished war record. At the beginning of the war he entered with the rank of colonel and a reputation won in the South African war. Since then he has been especially mentioned seven times in dispatches.',\n",
       "   'creator': 'HARRIS & EWING',\n",
       "   'category': 'Photograph'}},\n",
       " {'id': '5b21b9cdd6342b00010018a4',\n",
       "  'location': {'standard': 'http://s3.amazonaws.com/ndnp-jpeg-surrogates/pst_davey_ver01/data/sn83045211/00237287654/1918030401/0636.jpg'},\n",
       "  'region': {'toolName': 'rectangleTool',\n",
       "   'color': '#fe0000',\n",
       "   'x': 659.5932737984757,\n",
       "   'y': 261.7436686512645,\n",
       "   'width': 3646.961825262657,\n",
       "   'height': 1020.8003077399317,\n",
       "   'label': 'Illustration/Photo'},\n",
       "  'width': 5104,\n",
       "  'height': 6451,\n",
       "  'meta_data': {'set_key': 'http://chroniclingamerica.loc.gov/lccn/sn83045211/1918-03-04/ed-1/seq-13/',\n",
       "   'subject_url': 'http://chroniclingamerica.loc.gov/lccn/sn83045211/1918-03-04/ed-1/seq-13/',\n",
       "   'subject_description': 'Evening public ledger. March 04, 1918. Page 13',\n",
       "   'resize': '1.000000',\n",
       "   'alto': 'http://s3.amazonaws.com/ndnp-batches/pst_davey_ver01/data/sn83045211/00237287654/1918030401/0636.xml'},\n",
       "  'data': {'caption': 'Not That She Didn\\'t Try\\nHOW DO YOU LIKE MY HAIR THIS WAY PETEY DEAR?\\n?\\nROTTEN - LOOKS LIKE THE DICKENS!!\\nOH\"...\\nOH AUNTIE - AREN\\'T YOU READY YET?\\n-THERE-!! WHY DON\\'T YOU FIX YOUR HAIR THE SAME STYLE AS MABEL?\\n!',\n",
       "   'creator': 'C.A. VOIGHT',\n",
       "   'category': 'Comics/Cartoon'}}]"
      ]
     },
     "execution_count": 26,
     "metadata": {},
     "output_type": "execute_result"
    }
   ],
   "source": [
    "data[:2]"
   ]
  },
  {
   "cell_type": "code",
   "execution_count": 27,
   "metadata": {},
   "outputs": [],
   "source": [
    "# the json data contains has inconsistencies: sometimes \n",
    "# the 'data' attribute is at root level, somtimes it's\n",
    "# nested in a single-item list, under a 'values' attribute\n",
    "\n",
    "# move 'data' attribute to root if necessary\n",
    "for i, doc in enumerate(data):\n",
    "    values_attrib = doc['data'].get('values')\n",
    "    if values_attrib: \n",
    "        data[i]['data'] = values_attrib[0]"
   ]
  },
  {
   "cell_type": "code",
   "execution_count": 28,
   "metadata": {},
   "outputs": [
    {
     "data": {
      "text/html": [
       "<div>\n",
       "<style scoped>\n",
       "    .dataframe tbody tr th:only-of-type {\n",
       "        vertical-align: middle;\n",
       "    }\n",
       "\n",
       "    .dataframe tbody tr th {\n",
       "        vertical-align: top;\n",
       "    }\n",
       "\n",
       "    .dataframe thead th {\n",
       "        text-align: right;\n",
       "    }\n",
       "</style>\n",
       "<table border=\"1\" class=\"dataframe\">\n",
       "  <thead>\n",
       "    <tr style=\"text-align: right;\">\n",
       "      <th></th>\n",
       "      <th>data_caption</th>\n",
       "      <th>data_category</th>\n",
       "      <th>data_creator</th>\n",
       "      <th>height</th>\n",
       "      <th>id</th>\n",
       "      <th>location_standard</th>\n",
       "      <th>meta_data_alto</th>\n",
       "      <th>meta_data_resize</th>\n",
       "      <th>meta_data_set_key</th>\n",
       "      <th>meta_data_subject_description</th>\n",
       "      <th>meta_data_subject_url</th>\n",
       "      <th>region_color</th>\n",
       "      <th>region_height</th>\n",
       "      <th>region_label</th>\n",
       "      <th>region_toolName</th>\n",
       "      <th>region_width</th>\n",
       "      <th>region_x</th>\n",
       "      <th>region_y</th>\n",
       "      <th>width</th>\n",
       "    </tr>\n",
       "  </thead>\n",
       "  <tbody>\n",
       "    <tr>\n",
       "      <th>0</th>\n",
       "      <td>NOTED BRITISHER WITH COMMISSION\\nMaj. Gen. G. ...</td>\n",
       "      <td>Photograph</td>\n",
       "      <td>HARRIS &amp; EWING</td>\n",
       "      <td>7667</td>\n",
       "      <td>5b3e1972d6342b00010020de</td>\n",
       "      <td>http://s3.amazonaws.com/ndnp-jpeg-surrogates/i...</td>\n",
       "      <td>http://s3.amazonaws.com/ndnp-batches/iune_edit...</td>\n",
       "      <td>1.000000</td>\n",
       "      <td>http://chroniclingamerica.loc.gov/lccn/sn92053...</td>\n",
       "      <td>Rock Island Argus. May 07, 1917. Page 7</td>\n",
       "      <td>http://chroniclingamerica.loc.gov/lccn/sn92053...</td>\n",
       "      <td>#fe0000</td>\n",
       "      <td>2522.340516</td>\n",
       "      <td>Illustration/Photo</td>\n",
       "      <td>rectangleTool</td>\n",
       "      <td>838.359451</td>\n",
       "      <td>810.293697</td>\n",
       "      <td>318.002816</td>\n",
       "      <td>5912</td>\n",
       "    </tr>\n",
       "    <tr>\n",
       "      <th>1</th>\n",
       "      <td>Not That She Didn't Try\\nHOW DO YOU LIKE MY HA...</td>\n",
       "      <td>Comics/Cartoon</td>\n",
       "      <td>C.A. VOIGHT</td>\n",
       "      <td>6451</td>\n",
       "      <td>5b21b9cdd6342b00010018a4</td>\n",
       "      <td>http://s3.amazonaws.com/ndnp-jpeg-surrogates/p...</td>\n",
       "      <td>http://s3.amazonaws.com/ndnp-batches/pst_davey...</td>\n",
       "      <td>1.000000</td>\n",
       "      <td>http://chroniclingamerica.loc.gov/lccn/sn83045...</td>\n",
       "      <td>Evening public ledger. March 04, 1918. Page 13</td>\n",
       "      <td>http://chroniclingamerica.loc.gov/lccn/sn83045...</td>\n",
       "      <td>#fe0000</td>\n",
       "      <td>1020.800308</td>\n",
       "      <td>Illustration/Photo</td>\n",
       "      <td>rectangleTool</td>\n",
       "      <td>3646.961825</td>\n",
       "      <td>659.593274</td>\n",
       "      <td>261.743669</td>\n",
       "      <td>5104</td>\n",
       "    </tr>\n",
       "    <tr>\n",
       "      <th>2</th>\n",
       "      <td>HEAD OF THE VETERANS\\nGen. George P. Harrison,...</td>\n",
       "      <td>Photograph</td>\n",
       "      <td>NaN</td>\n",
       "      <td>9168</td>\n",
       "      <td>5b312a24d6342b0001001d7a</td>\n",
       "      <td>http://s3.amazonaws.com/ndnp-jpeg-surrogates/f...</td>\n",
       "      <td>http://s3.amazonaws.com/ndnp-batches/fu_criser...</td>\n",
       "      <td>1.000000</td>\n",
       "      <td>http://chroniclingamerica.loc.gov/lccn/sn84027...</td>\n",
       "      <td>The Ocala evening star. September 17, 1918. Pa...</td>\n",
       "      <td>http://chroniclingamerica.loc.gov/lccn/sn84027...</td>\n",
       "      <td>#fe0000</td>\n",
       "      <td>1613.238984</td>\n",
       "      <td>Illustration/Photo</td>\n",
       "      <td>rectangleTool</td>\n",
       "      <td>944.593873</td>\n",
       "      <td>2281.859784</td>\n",
       "      <td>7270.189167</td>\n",
       "      <td>6368</td>\n",
       "    </tr>\n",
       "  </tbody>\n",
       "</table>\n",
       "</div>"
      ],
      "text/plain": [
       "                                        data_caption   data_category  \\\n",
       "0  NOTED BRITISHER WITH COMMISSION\\nMaj. Gen. G. ...      Photograph   \n",
       "1  Not That She Didn't Try\\nHOW DO YOU LIKE MY HA...  Comics/Cartoon   \n",
       "2  HEAD OF THE VETERANS\\nGen. George P. Harrison,...      Photograph   \n",
       "\n",
       "     data_creator  height                        id  \\\n",
       "0  HARRIS & EWING    7667  5b3e1972d6342b00010020de   \n",
       "1     C.A. VOIGHT    6451  5b21b9cdd6342b00010018a4   \n",
       "2             NaN    9168  5b312a24d6342b0001001d7a   \n",
       "\n",
       "                                   location_standard  \\\n",
       "0  http://s3.amazonaws.com/ndnp-jpeg-surrogates/i...   \n",
       "1  http://s3.amazonaws.com/ndnp-jpeg-surrogates/p...   \n",
       "2  http://s3.amazonaws.com/ndnp-jpeg-surrogates/f...   \n",
       "\n",
       "                                      meta_data_alto meta_data_resize  \\\n",
       "0  http://s3.amazonaws.com/ndnp-batches/iune_edit...         1.000000   \n",
       "1  http://s3.amazonaws.com/ndnp-batches/pst_davey...         1.000000   \n",
       "2  http://s3.amazonaws.com/ndnp-batches/fu_criser...         1.000000   \n",
       "\n",
       "                                   meta_data_set_key  \\\n",
       "0  http://chroniclingamerica.loc.gov/lccn/sn92053...   \n",
       "1  http://chroniclingamerica.loc.gov/lccn/sn83045...   \n",
       "2  http://chroniclingamerica.loc.gov/lccn/sn84027...   \n",
       "\n",
       "                       meta_data_subject_description  \\\n",
       "0            Rock Island Argus. May 07, 1917. Page 7   \n",
       "1     Evening public ledger. March 04, 1918. Page 13   \n",
       "2  The Ocala evening star. September 17, 1918. Pa...   \n",
       "\n",
       "                               meta_data_subject_url region_color  \\\n",
       "0  http://chroniclingamerica.loc.gov/lccn/sn92053...      #fe0000   \n",
       "1  http://chroniclingamerica.loc.gov/lccn/sn83045...      #fe0000   \n",
       "2  http://chroniclingamerica.loc.gov/lccn/sn84027...      #fe0000   \n",
       "\n",
       "   region_height        region_label region_toolName  region_width  \\\n",
       "0    2522.340516  Illustration/Photo   rectangleTool    838.359451   \n",
       "1    1020.800308  Illustration/Photo   rectangleTool   3646.961825   \n",
       "2    1613.238984  Illustration/Photo   rectangleTool    944.593873   \n",
       "\n",
       "      region_x     region_y  width  \n",
       "0   810.293697   318.002816   5912  \n",
       "1   659.593274   261.743669   5104  \n",
       "2  2281.859784  7270.189167   6368  "
      ]
     },
     "execution_count": 28,
     "metadata": {},
     "output_type": "execute_result"
    }
   ],
   "source": [
    "# flatten the data, create dataframe\n",
    "df = json_normalize(data)\n",
    "# json_normalize uses periods in col names; change to underscore\n",
    "df.columns = df.columns.map(lambda x: x.replace('.', '_'))\n",
    "\n",
    "df.head(3)"
   ]
  },
  {
   "cell_type": "code",
   "execution_count": 29,
   "metadata": {},
   "outputs": [],
   "source": [
    "# drop columns we probably won't need\n",
    "drop_cols = [\n",
    "    'meta_data_resize',\n",
    "    'region_color',\n",
    "    'region_toolName',\n",
    "    'region_label',\n",
    "]\n",
    "for col in drop_cols:\n",
    "    df.drop(col, axis=1, inplace=True)"
   ]
  },
  {
   "cell_type": "code",
   "execution_count": 30,
   "metadata": {},
   "outputs": [
    {
     "data": {
      "text/plain": [
       "data_caption                      object\n",
       "data_category                     object\n",
       "data_creator                      object\n",
       "height                             int64\n",
       "id                                object\n",
       "location_standard                 object\n",
       "meta_data_alto                    object\n",
       "meta_data_set_key                 object\n",
       "meta_data_subject_description     object\n",
       "meta_data_subject_url             object\n",
       "region_height                    float64\n",
       "region_width                     float64\n",
       "region_x                         float64\n",
       "region_y                         float64\n",
       "width                              int64\n",
       "dtype: object"
      ]
     },
     "execution_count": 30,
     "metadata": {},
     "output_type": "execute_result"
    }
   ],
   "source": [
    "# show data types that pandas has inferred\n",
    "df.dtypes"
   ]
  },
  {
   "cell_type": "code",
   "execution_count": 31,
   "metadata": {},
   "outputs": [
    {
     "data": {
      "text/plain": [
       "data_caption                     1459\n",
       "data_category                    1460\n",
       "data_creator                      422\n",
       "height                           1474\n",
       "id                               1474\n",
       "location_standard                1474\n",
       "meta_data_alto                   1474\n",
       "meta_data_set_key                1474\n",
       "meta_data_subject_description    1474\n",
       "meta_data_subject_url            1474\n",
       "region_height                    1474\n",
       "region_width                     1474\n",
       "region_x                         1474\n",
       "region_y                         1474\n",
       "width                            1474\n",
       "dtype: int64"
      ]
     },
     "execution_count": 31,
     "metadata": {},
     "output_type": "execute_result"
    }
   ],
   "source": [
    "df.count()"
   ]
  },
  {
   "cell_type": "code",
   "execution_count": 32,
   "metadata": {},
   "outputs": [],
   "source": [
    "# convert NaNs to blanks in text columns that have missing columns\n",
    "na_blank_cols = ['data_caption', 'data_category', 'data_creator']\n",
    "for col in na_blank_cols:\n",
    "    df[col] = df[col].fillna('')\n"
   ]
  },
  {
   "cell_type": "code",
   "execution_count": 61,
   "metadata": {},
   "outputs": [],
   "source": [
    "# add a column that is the hash of the image url,\n",
    "# we'll use this as an image identifier\n",
    "\n",
    "import hashlib\n",
    "\n",
    "# func to return hash for a string\n",
    "def hashstr(s):\n",
    "    return hashlib.md5(s.encode('utf8')).hexdigest()\n",
    "\n",
    "# apply to new column\n",
    "df['img_url_hash'] = df.apply(lambda r: hashstr(r['location_standard']), axis = 1)"
   ]
  },
  {
   "cell_type": "code",
   "execution_count": 62,
   "metadata": {},
   "outputs": [],
   "source": [
    "# save data as sqlite db\n",
    "eng = create_engine('sqlite:///db/data.sqlite3', echo=False)\n",
    "df.to_sql('data', eng, index=False, if_exists='replace')"
   ]
  },
  {
   "cell_type": "code",
   "execution_count": 67,
   "metadata": {},
   "outputs": [
    {
     "data": {
      "text/plain": [
       "data_caption                      object\n",
       "data_category                     object\n",
       "data_creator                      object\n",
       "height                             int64\n",
       "id                                object\n",
       "location_standard                 object\n",
       "meta_data_alto                    object\n",
       "meta_data_set_key                 object\n",
       "meta_data_subject_description     object\n",
       "meta_data_subject_url             object\n",
       "region_height                    float64\n",
       "region_width                     float64\n",
       "region_x                         float64\n",
       "region_y                         float64\n",
       "width                              int64\n",
       "img_url_hash                      object\n",
       "dtype: object"
      ]
     },
     "execution_count": 67,
     "metadata": {},
     "output_type": "execute_result"
    }
   ],
   "source": [
    "# re-read data from sql and check data types\n",
    "pd.read_sql(\"select * from data\", eng).dtypes"
   ]
  },
  {
   "cell_type": "code",
   "execution_count": 68,
   "metadata": {},
   "outputs": [
    {
     "data": {
      "text/plain": [
       "data_caption                     1474\n",
       "data_category                    1474\n",
       "data_creator                     1474\n",
       "height                           1474\n",
       "id                               1474\n",
       "location_standard                1474\n",
       "meta_data_alto                   1474\n",
       "meta_data_set_key                1474\n",
       "meta_data_subject_description    1474\n",
       "meta_data_subject_url            1474\n",
       "region_height                    1474\n",
       "region_width                     1474\n",
       "region_x                         1474\n",
       "region_y                         1474\n",
       "width                            1474\n",
       "img_url_hash                     1474\n",
       "dtype: int64"
      ]
     },
     "execution_count": 68,
     "metadata": {},
     "output_type": "execute_result"
    }
   ],
   "source": [
    "# re-read data from sql and check data types\n",
    "pd.read_sql(\"select * from data\", eng).count()"
   ]
  },
  {
   "cell_type": "code",
   "execution_count": 85,
   "metadata": {
    "scrolled": true
   },
   "outputs": [],
   "source": [
    "# download image files\n",
    "\n",
    "import requests\n",
    "import os.path\n",
    "\n",
    "sql = \"select location_standard, img_url_hash from data\"\n",
    "result = eng.execute(sql)\n",
    "for row in result:\n",
    "    uhash = row[1]\n",
    "    url = row[0]\n",
    "    # image filename is based on url hash\n",
    "    path = 'images/{}.jpg'.format(uhash)\n",
    "    # skip if we've already downloaded this file\n",
    "    if os.path.exists(path):\n",
    "        continue\n",
    "    # otherwise, download and save it\n",
    "    else:\n",
    "        r = requests.get(url, stream=True)\n",
    "        # if http error, skip and print error\n",
    "        if not r.status_code == 200:\n",
    "            print('{} error for {}'.format(r.status_code, url))\n",
    "            continue\n",
    "        else:\n",
    "            with open(path, 'wb') as f:\n",
    "                for chunk in r:\n",
    "                    f.write(chunk)\n"
   ]
  }
 ],
 "metadata": {
  "kernelspec": {
   "display_name": "Python 3",
   "language": "python",
   "name": "python3"
  },
  "language_info": {
   "codemirror_mode": {
    "name": "ipython",
    "version": 3
   },
   "file_extension": ".py",
   "mimetype": "text/x-python",
   "name": "python",
   "nbconvert_exporter": "python",
   "pygments_lexer": "ipython3",
   "version": "3.6.4"
  }
 },
 "nbformat": 4,
 "nbformat_minor": 2
}
