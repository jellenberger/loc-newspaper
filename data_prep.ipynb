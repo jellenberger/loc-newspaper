{
 "cells": [
  {
   "cell_type": "code",
   "execution_count": 1,
   "metadata": {},
   "outputs": [],
   "source": [
    "import json\n",
    "import os\n",
    "import requests\n",
    "from glob import glob\n",
    "\n",
    "import pandas as pd\n",
    "from pandas.io.json import json_normalize\n",
    "from sqlalchemy import create_engine\n",
    "from tqdm import tqdm\n",
    "\n",
    "%matplotlib inline"
   ]
  },
  {
   "cell_type": "code",
   "execution_count": 2,
   "metadata": {},
   "outputs": [],
   "source": [
    "eng = create_engine('sqlite:///db/data.sqlite3', echo=False)"
   ]
  },
  {
   "cell_type": "code",
   "execution_count": 3,
   "metadata": {},
   "outputs": [],
   "source": [
    "## Create directories\n",
    "# !mkdir images\n",
    "# !mkdir data\n",
    "# !mkdir db"
   ]
  },
  {
   "cell_type": "markdown",
   "metadata": {},
   "source": [
    "## Image metadata"
   ]
  },
  {
   "cell_type": "code",
   "execution_count": 4,
   "metadata": {},
   "outputs": [],
   "source": [
    "## Download image metadata\n",
    "# url = 'http://beyondwords.labs.loc.gov/data'\n",
    "# r = requests.get(url, stream=True)\n",
    "# with open('data/data.json', 'wb') as f:\n",
    "#     for chunk in r.iter_content(): \n",
    "#         if chunk:\n",
    "#             f.write(chunk)"
   ]
  },
  {
   "cell_type": "code",
   "execution_count": 5,
   "metadata": {},
   "outputs": [],
   "source": [
    "# Load downloaded data\n",
    "with open('data/data.json') as jsonfile:\n",
    "    data = json.load(jsonfile)['data']"
   ]
  },
  {
   "cell_type": "code",
   "execution_count": 6,
   "metadata": {
    "scrolled": true
   },
   "outputs": [
    {
     "data": {
      "text/plain": [
       "[{'id': '59f0e2a52ef3300001002322',\n",
       "  'location': {'standard': 'http://s3.amazonaws.com/ndnp-jpeg-surrogates/ohi_echo_ver01/data/sn88078751/00237282589/1917061901/0274.jpg'},\n",
       "  'region': {'toolName': 'rectangleTool',\n",
       "   'color': '#fe0000',\n",
       "   'x': 267.9352864852792,\n",
       "   'y': 2123.43418486819,\n",
       "   'width': 659.8053042473791,\n",
       "   'height': 1034.922970227556,\n",
       "   'label': 'Illustration/Photo'},\n",
       "  'width': 5188,\n",
       "  'height': 6414,\n",
       "  'meta_data': {'set_key': 'http://chroniclingamerica.loc.gov/lccn/sn88078751/1917-06-19/ed-1/seq-5/',\n",
       "   'subject_url': 'http://chroniclingamerica.loc.gov/lccn/sn88078751/1917-06-19/ed-1/seq-5/',\n",
       "   'subject_description': 'The Democratic banner. June 19, 1917. Page 5',\n",
       "   'resize': '1.000000',\n",
       "   'alto': 'http://s3.amazonaws.com/ndnp-batches/ohi_echo_ver01/data/sn88078751/00237282589/1917061901/0274.xml'},\n",
       "  'data': {'values': [{'caption': 'REV. J. A. LONG Pronounced Invocation and Benediction at the Memorial',\n",
       "     'category': 'Photograph'}],\n",
       "   'task_prompt': \"Enter picture's caption, illustrator or photographer and category.\"}},\n",
       " {'id': '5b11aea6a042dd000100137b',\n",
       "  'location': {'standard': 'http://s3.amazonaws.com/ndnp-jpeg-surrogates/ohi_echo_ver01/data/sn88078751/00237282589/1917060801/0247.jpg'},\n",
       "  'region': {'toolName': 'rectangleTool',\n",
       "   'color': '#fe0000',\n",
       "   'x': 252.91246006389775,\n",
       "   'y': 2545.757071547421,\n",
       "   'width': 662.2313099041532,\n",
       "   'height': 1014.9750415973376,\n",
       "   'label': 'Illustration/Photo'},\n",
       "  'width': 5208,\n",
       "  'height': 6500,\n",
       "  'meta_data': {'set_key': 'http://chroniclingamerica.loc.gov/lccn/sn88078751/1917-06-08/ed-1/seq-2/',\n",
       "   'subject_url': 'http://chroniclingamerica.loc.gov/lccn/sn88078751/1917-06-08/ed-1/seq-2/',\n",
       "   'subject_description': 'The Democratic banner. June 08, 1917. Page 2',\n",
       "   'resize': '1.000000',\n",
       "   'alto': 'http://s3.amazonaws.com/ndnp-batches/ohi_echo_ver01/data/sn88078751/00237282589/1917060801/0247.xml'},\n",
       "  'data': {'values': [{'caption': 'JUDGE P. A. BERRY\\nSelected By Governor Cox To Administer The New \"Blue Sky\" Law',\n",
       "     'category': 'Photograph'}],\n",
       "   'task_prompt': \"Enter picture's caption, illustrator or photographer and category.\"}}]"
      ]
     },
     "execution_count": 6,
     "metadata": {},
     "output_type": "execute_result"
    }
   ],
   "source": [
    "# Show a couple of data entries\n",
    "data[:2]"
   ]
  },
  {
   "cell_type": "code",
   "execution_count": 7,
   "metadata": {},
   "outputs": [],
   "source": [
    "# Restructure data for consistency: sometimes \n",
    "# the 'data' attribute is at root level; somtimes\n",
    "# it's nested under a 'values' attribute\n",
    "for i, doc in enumerate(data):\n",
    "    values_attrib = doc['data'].get('values')\n",
    "    if values_attrib: \n",
    "        data[i]['data'] = values_attrib[0]"
   ]
  },
  {
   "cell_type": "code",
   "execution_count": 8,
   "metadata": {},
   "outputs": [
    {
     "data": {
      "text/html": [
       "<div>\n",
       "<style scoped>\n",
       "    .dataframe tbody tr th:only-of-type {\n",
       "        vertical-align: middle;\n",
       "    }\n",
       "\n",
       "    .dataframe tbody tr th {\n",
       "        vertical-align: top;\n",
       "    }\n",
       "\n",
       "    .dataframe thead th {\n",
       "        text-align: right;\n",
       "    }\n",
       "</style>\n",
       "<table border=\"1\" class=\"dataframe\">\n",
       "  <thead>\n",
       "    <tr style=\"text-align: right;\">\n",
       "      <th></th>\n",
       "      <th>data_caption</th>\n",
       "      <th>data_category</th>\n",
       "      <th>data_creator</th>\n",
       "      <th>height</th>\n",
       "      <th>id</th>\n",
       "      <th>location_standard</th>\n",
       "      <th>meta_data_alto</th>\n",
       "      <th>meta_data_resize</th>\n",
       "      <th>meta_data_set_key</th>\n",
       "      <th>meta_data_subject_description</th>\n",
       "      <th>meta_data_subject_url</th>\n",
       "      <th>region_color</th>\n",
       "      <th>region_height</th>\n",
       "      <th>region_label</th>\n",
       "      <th>region_toolName</th>\n",
       "      <th>region_width</th>\n",
       "      <th>region_x</th>\n",
       "      <th>region_y</th>\n",
       "      <th>width</th>\n",
       "    </tr>\n",
       "  </thead>\n",
       "  <tbody>\n",
       "    <tr>\n",
       "      <th>0</th>\n",
       "      <td>REV. J. A. LONG Pronounced Invocation and Bene...</td>\n",
       "      <td>Photograph</td>\n",
       "      <td>NaN</td>\n",
       "      <td>6414</td>\n",
       "      <td>59f0e2a52ef3300001002322</td>\n",
       "      <td>http://s3.amazonaws.com/ndnp-jpeg-surrogates/o...</td>\n",
       "      <td>http://s3.amazonaws.com/ndnp-batches/ohi_echo_...</td>\n",
       "      <td>1.000000</td>\n",
       "      <td>http://chroniclingamerica.loc.gov/lccn/sn88078...</td>\n",
       "      <td>The Democratic banner. June 19, 1917. Page 5</td>\n",
       "      <td>http://chroniclingamerica.loc.gov/lccn/sn88078...</td>\n",
       "      <td>#fe0000</td>\n",
       "      <td>1034.922970</td>\n",
       "      <td>Illustration/Photo</td>\n",
       "      <td>rectangleTool</td>\n",
       "      <td>659.805304</td>\n",
       "      <td>267.935286</td>\n",
       "      <td>2123.434185</td>\n",
       "      <td>5188</td>\n",
       "    </tr>\n",
       "    <tr>\n",
       "      <th>1</th>\n",
       "      <td>JUDGE P. A. BERRY\\nSelected By Governor Cox To...</td>\n",
       "      <td>Photograph</td>\n",
       "      <td>NaN</td>\n",
       "      <td>6500</td>\n",
       "      <td>5b11aea6a042dd000100137b</td>\n",
       "      <td>http://s3.amazonaws.com/ndnp-jpeg-surrogates/o...</td>\n",
       "      <td>http://s3.amazonaws.com/ndnp-batches/ohi_echo_...</td>\n",
       "      <td>1.000000</td>\n",
       "      <td>http://chroniclingamerica.loc.gov/lccn/sn88078...</td>\n",
       "      <td>The Democratic banner. June 08, 1917. Page 2</td>\n",
       "      <td>http://chroniclingamerica.loc.gov/lccn/sn88078...</td>\n",
       "      <td>#fe0000</td>\n",
       "      <td>1014.975042</td>\n",
       "      <td>Illustration/Photo</td>\n",
       "      <td>rectangleTool</td>\n",
       "      <td>662.231310</td>\n",
       "      <td>252.912460</td>\n",
       "      <td>2545.757072</td>\n",
       "      <td>5208</td>\n",
       "    </tr>\n",
       "    <tr>\n",
       "      <th>2</th>\n",
       "      <td>New photograph of Premier Venizelos of Greece,...</td>\n",
       "      <td>Photograph</td>\n",
       "      <td>Western Newspaper Union</td>\n",
       "      <td>6560</td>\n",
       "      <td>5b11ac5a572c860001003d6b</td>\n",
       "      <td>http://s3.amazonaws.com/ndnp-jpeg-surrogates/o...</td>\n",
       "      <td>http://s3.amazonaws.com/ndnp-batches/ohi_echo_...</td>\n",
       "      <td>1.000000</td>\n",
       "      <td>http://chroniclingamerica.loc.gov/lccn/sn88078...</td>\n",
       "      <td>The Democratic banner. December 18, 1917. Page 1</td>\n",
       "      <td>http://chroniclingamerica.loc.gov/lccn/sn88078...</td>\n",
       "      <td>#fe0000</td>\n",
       "      <td>1440.479854</td>\n",
       "      <td>Illustration/Photo</td>\n",
       "      <td>rectangleTool</td>\n",
       "      <td>639.833057</td>\n",
       "      <td>1036.730931</td>\n",
       "      <td>2220.597210</td>\n",
       "      <td>5300</td>\n",
       "    </tr>\n",
       "  </tbody>\n",
       "</table>\n",
       "</div>"
      ],
      "text/plain": [
       "                                        data_caption data_category  \\\n",
       "0  REV. J. A. LONG Pronounced Invocation and Bene...    Photograph   \n",
       "1  JUDGE P. A. BERRY\\nSelected By Governor Cox To...    Photograph   \n",
       "2  New photograph of Premier Venizelos of Greece,...    Photograph   \n",
       "\n",
       "              data_creator  height                        id  \\\n",
       "0                      NaN    6414  59f0e2a52ef3300001002322   \n",
       "1                      NaN    6500  5b11aea6a042dd000100137b   \n",
       "2  Western Newspaper Union    6560  5b11ac5a572c860001003d6b   \n",
       "\n",
       "                                   location_standard  \\\n",
       "0  http://s3.amazonaws.com/ndnp-jpeg-surrogates/o...   \n",
       "1  http://s3.amazonaws.com/ndnp-jpeg-surrogates/o...   \n",
       "2  http://s3.amazonaws.com/ndnp-jpeg-surrogates/o...   \n",
       "\n",
       "                                      meta_data_alto meta_data_resize  \\\n",
       "0  http://s3.amazonaws.com/ndnp-batches/ohi_echo_...         1.000000   \n",
       "1  http://s3.amazonaws.com/ndnp-batches/ohi_echo_...         1.000000   \n",
       "2  http://s3.amazonaws.com/ndnp-batches/ohi_echo_...         1.000000   \n",
       "\n",
       "                                   meta_data_set_key  \\\n",
       "0  http://chroniclingamerica.loc.gov/lccn/sn88078...   \n",
       "1  http://chroniclingamerica.loc.gov/lccn/sn88078...   \n",
       "2  http://chroniclingamerica.loc.gov/lccn/sn88078...   \n",
       "\n",
       "                      meta_data_subject_description  \\\n",
       "0      The Democratic banner. June 19, 1917. Page 5   \n",
       "1      The Democratic banner. June 08, 1917. Page 2   \n",
       "2  The Democratic banner. December 18, 1917. Page 1   \n",
       "\n",
       "                               meta_data_subject_url region_color  \\\n",
       "0  http://chroniclingamerica.loc.gov/lccn/sn88078...      #fe0000   \n",
       "1  http://chroniclingamerica.loc.gov/lccn/sn88078...      #fe0000   \n",
       "2  http://chroniclingamerica.loc.gov/lccn/sn88078...      #fe0000   \n",
       "\n",
       "   region_height        region_label region_toolName  region_width  \\\n",
       "0    1034.922970  Illustration/Photo   rectangleTool    659.805304   \n",
       "1    1014.975042  Illustration/Photo   rectangleTool    662.231310   \n",
       "2    1440.479854  Illustration/Photo   rectangleTool    639.833057   \n",
       "\n",
       "      region_x     region_y  width  \n",
       "0   267.935286  2123.434185   5188  \n",
       "1   252.912460  2545.757072   5208  \n",
       "2  1036.730931  2220.597210   5300  "
      ]
     },
     "execution_count": 8,
     "metadata": {},
     "output_type": "execute_result"
    }
   ],
   "source": [
    "# Flatten data into dataframe\n",
    "df = json_normalize(data)\n",
    "# json_normalize uses periods in col names; change to underscore\n",
    "df.columns = df.columns.map(lambda x: x.replace('.', '_'))\n",
    "\n",
    "# Show a couple of dataframe entries\n",
    "df.head(3)"
   ]
  },
  {
   "cell_type": "code",
   "execution_count": 9,
   "metadata": {},
   "outputs": [],
   "source": [
    "# # Drop columns we probably won't need\n",
    "# drop_cols = [\n",
    "#     'meta_data_resize',\n",
    "#     'region_color',\n",
    "#     'region_toolName',\n",
    "#     'region_label',\n",
    "# ]\n",
    "# for col in drop_cols:\n",
    "#     df.drop(col, axis=1, inplace=True)"
   ]
  },
  {
   "cell_type": "code",
   "execution_count": 10,
   "metadata": {},
   "outputs": [
    {
     "data": {
      "text/plain": [
       "data_caption                      object\n",
       "data_category                     object\n",
       "data_creator                      object\n",
       "height                             int64\n",
       "id                                object\n",
       "location_standard                 object\n",
       "meta_data_alto                    object\n",
       "meta_data_resize                  object\n",
       "meta_data_set_key                 object\n",
       "meta_data_subject_description     object\n",
       "meta_data_subject_url             object\n",
       "region_color                      object\n",
       "region_height                    float64\n",
       "region_label                      object\n",
       "region_toolName                   object\n",
       "region_width                     float64\n",
       "region_x                         float64\n",
       "region_y                         float64\n",
       "width                              int64\n",
       "dtype: object"
      ]
     },
     "execution_count": 10,
     "metadata": {},
     "output_type": "execute_result"
    }
   ],
   "source": [
    "# Show data types inferred by pandas\n",
    "df.dtypes"
   ]
  },
  {
   "cell_type": "code",
   "execution_count": 11,
   "metadata": {},
   "outputs": [],
   "source": [
    "# Convert NaNs in text columns to blanks\n",
    "obj_cols = list(df.select_dtypes(include=['object']).columns)\n",
    "for col in obj_cols:\n",
    "    df[col] = df[col].fillna('')"
   ]
  },
  {
   "cell_type": "code",
   "execution_count": 12,
   "metadata": {},
   "outputs": [
    {
     "data": {
      "text/plain": [
       "data_caption                     1749\n",
       "data_category                    1749\n",
       "data_creator                     1749\n",
       "height                           1749\n",
       "id                               1749\n",
       "location_standard                1749\n",
       "meta_data_alto                   1749\n",
       "meta_data_resize                 1749\n",
       "meta_data_set_key                1749\n",
       "meta_data_subject_description    1749\n",
       "meta_data_subject_url            1749\n",
       "region_color                     1749\n",
       "region_height                    1749\n",
       "region_label                     1749\n",
       "region_toolName                  1749\n",
       "region_width                     1749\n",
       "region_x                         1749\n",
       "region_y                         1749\n",
       "width                            1749\n",
       "dtype: int64"
      ]
     },
     "execution_count": 12,
     "metadata": {},
     "output_type": "execute_result"
    }
   ],
   "source": [
    "# Get colum counts\n",
    "df.count()"
   ]
  },
  {
   "cell_type": "code",
   "execution_count": 13,
   "metadata": {},
   "outputs": [],
   "source": [
    "# Add column that is an md5 hash of the image url,\n",
    "# to use as a uniqe image id\n",
    "import hashlib\n",
    "\n",
    "# func to return hash for a string\n",
    "def hashstr(s):\n",
    "    return hashlib.md5(s.encode('utf8')).hexdigest()\n",
    "\n",
    "# apply to new column\n",
    "df['img_url_hash'] = df.apply(lambda r: hashstr(r['location_standard']), axis=1)"
   ]
  },
  {
   "cell_type": "code",
   "execution_count": 14,
   "metadata": {},
   "outputs": [],
   "source": [
    "# Save data as sqlite db\n",
    "df.to_sql('data', eng, index=False, if_exists='replace')"
   ]
  },
  {
   "cell_type": "code",
   "execution_count": 15,
   "metadata": {},
   "outputs": [
    {
     "data": {
      "text/plain": [
       "data_caption                      object\n",
       "data_category                     object\n",
       "data_creator                      object\n",
       "height                             int64\n",
       "id                                object\n",
       "location_standard                 object\n",
       "meta_data_alto                    object\n",
       "meta_data_resize                  object\n",
       "meta_data_set_key                 object\n",
       "meta_data_subject_description     object\n",
       "meta_data_subject_url             object\n",
       "region_color                      object\n",
       "region_height                    float64\n",
       "region_label                      object\n",
       "region_toolName                   object\n",
       "region_width                     float64\n",
       "region_x                         float64\n",
       "region_y                         float64\n",
       "width                              int64\n",
       "img_url_hash                      object\n",
       "dtype: object"
      ]
     },
     "execution_count": 15,
     "metadata": {},
     "output_type": "execute_result"
    }
   ],
   "source": [
    "# Re-read data from sql and check data types\n",
    "pd.read_sql(\"select * from data\", eng).dtypes"
   ]
  },
  {
   "cell_type": "code",
   "execution_count": 16,
   "metadata": {},
   "outputs": [
    {
     "data": {
      "text/plain": [
       "data_caption                     1749\n",
       "data_category                    1749\n",
       "data_creator                     1749\n",
       "height                           1749\n",
       "id                               1749\n",
       "location_standard                1749\n",
       "meta_data_alto                   1749\n",
       "meta_data_resize                 1749\n",
       "meta_data_set_key                1749\n",
       "meta_data_subject_description    1749\n",
       "meta_data_subject_url            1749\n",
       "region_color                     1749\n",
       "region_height                    1749\n",
       "region_label                     1749\n",
       "region_toolName                  1749\n",
       "region_width                     1749\n",
       "region_x                         1749\n",
       "region_y                         1749\n",
       "width                            1749\n",
       "img_url_hash                     1749\n",
       "dtype: int64"
      ]
     },
     "execution_count": 16,
     "metadata": {},
     "output_type": "execute_result"
    }
   ],
   "source": [
    "# Re-read data from sql and check counts\n",
    "pd.read_sql(\"select * from data\", eng).count()"
   ]
  },
  {
   "cell_type": "markdown",
   "metadata": {},
   "source": [
    "## Image files"
   ]
  },
  {
   "cell_type": "code",
   "execution_count": 17,
   "metadata": {},
   "outputs": [
    {
     "data": {
      "text/plain": [
       "array([[<matplotlib.axes._subplots.AxesSubplot object at 0x7f545438dd30>]],\n",
       "      dtype=object)"
      ]
     },
     "execution_count": 17,
     "metadata": {},
     "output_type": "execute_result"
    },
    {
     "data": {
      "image/png": "[encoded data removed]",
      "text/plain": [
       "<Figure size 432x288 with 1 Axes>"
      ]
     },
     "metadata": {
      "needs_background": "light"
     },
     "output_type": "display_data"
    }
   ],
   "source": [
    "# Look at image heights\n",
    "df.hist(column='height')"
   ]
  },
  {
   "cell_type": "code",
   "execution_count": 18,
   "metadata": {},
   "outputs": [
    {
     "data": {
      "text/plain": [
       "array([[<matplotlib.axes._subplots.AxesSubplot object at 0x7f54543d4d30>]],\n",
       "      dtype=object)"
      ]
     },
     "execution_count": 18,
     "metadata": {},
     "output_type": "execute_result"
    },
    {
     "data": {
      "image/png": "[encoded data removed]",
      "text/plain": [
       "<Figure size 432x288 with 1 Axes>"
      ]
     },
     "metadata": {
      "needs_background": "light"
     },
     "output_type": "display_data"
    }
   ],
   "source": [
    "# look at image widths\n",
    "df.hist(column='width')"
   ]
  },
  {
   "cell_type": "code",
   "execution_count": 19,
   "metadata": {},
   "outputs": [],
   "source": [
    "from skimage import io, exposure, transform"
   ]
  },
  {
   "cell_type": "code",
   "execution_count": 20,
   "metadata": {},
   "outputs": [
    {
     "name": "stderr",
     "output_type": "stream",
     "text": [
      "100%|██████████| 1082/1082 [00:00<00:00, 10904.74it/s]\n"
     ]
    }
   ],
   "source": [
    "# Download image corresponding to each unique image hash,\n",
    "# process as necessary before saving\n",
    "sql = \"select distinct location_standard, img_url_hash from data\"\n",
    "img_list = list(eng.execute(sql))\n",
    "for row in tqdm(img_list):\n",
    "    uhash = row[1]\n",
    "    url = row[0]\n",
    "    # image filename is based on url hash\n",
    "    path = 'images/{}.jpg'.format(uhash)\n",
    "    # download, if file doesn't exist\n",
    "    if not os.path.exists(path):\n",
    "        img = io.imread(url)\n",
    "        # original files are pretty big: scale to manageable size\n",
    "        scale = 1024 / img.shape[0] # rescale factor for max height\n",
    "        img = transform.rescale(img, scale, anti_aliasing=True, multichannel=False, mode='reflect')\n",
    "        # save\n",
    "        io.imsave(path, img, quality=90)"
   ]
  },
  {
   "cell_type": "code",
   "execution_count": 21,
   "metadata": {},
   "outputs": [
    {
     "data": {
      "text/plain": [
       "1082"
      ]
     },
     "execution_count": 21,
     "metadata": {},
     "output_type": "execute_result"
    }
   ],
   "source": [
    "# Check number of image files \n",
    "len(glob('images/*.jpg'))"
   ]
  }
 ],
 "metadata": {
  "kernelspec": {
   "display_name": "Python 3",
   "language": "python",
   "name": "python3"
  },
  "language_info": {
   "codemirror_mode": {
    "name": "ipython",
    "version": 3
   },
   "file_extension": ".py",
   "mimetype": "text/x-python",
   "name": "python",
   "nbconvert_exporter": "python",
   "pygments_lexer": "ipython3",
   "version": "3.6.6"
  }
 },
 "nbformat": 4,
 "nbformat_minor": 2
}
