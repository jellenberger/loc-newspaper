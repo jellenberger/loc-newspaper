{
 "cells": [
  {
   "cell_type": "code",
   "execution_count": 1,
   "metadata": {},
   "outputs": [],
   "source": [
    "import json\n",
    "import os\n",
    "import requests\n",
    "from glob import glob\n",
    "\n",
    "import pandas as pd\n",
    "from pandas.io.json import json_normalize\n",
    "from sqlalchemy import create_engine\n",
    "from tqdm import tqdm\n",
    "\n",
    "%matplotlib inline"
   ]
  },
  {
   "cell_type": "code",
   "execution_count": 2,
   "metadata": {},
   "outputs": [],
   "source": [
    "eng = create_engine('sqlite:///db/data.sqlite3', echo=False)"
   ]
  },
  {
   "cell_type": "code",
   "execution_count": 3,
   "metadata": {},
   "outputs": [],
   "source": [
    "# # Create directories\n",
    "# !mkdir images\n",
    "# !mkdir data\n",
    "# !mkdir db"
   ]
  },
  {
   "cell_type": "markdown",
   "metadata": {},
   "source": [
    "## Image metadata"
   ]
  },
  {
   "cell_type": "code",
   "execution_count": 4,
   "metadata": {},
   "outputs": [],
   "source": [
    "# # Download image metadata\n",
    "# url = 'http://beyondwords.labs.loc.gov/data'\n",
    "# r = requests.get(url, stream=True)\n",
    "# with open('data/data.json', 'wb') as f:\n",
    "#     for chunk in r.iter_content(): \n",
    "#         if chunk:\n",
    "#             f.write(chunk)"
   ]
  },
  {
   "cell_type": "code",
   "execution_count": 6,
   "metadata": {},
   "outputs": [],
   "source": [
    "# Load downloaded data\n",
    "with open('data/data.json', encoding='utf-8') as jsonfile:\n",
    "    data = json.load(jsonfile)['data']"
   ]
  },
  {
   "cell_type": "code",
   "execution_count": 7,
   "metadata": {
    "scrolled": false
   },
   "outputs": [
    {
     "data": {
      "text/plain": [
       "[{'id': '5b80678a6dc3580001001124',\n",
       "  'location': {'standard': 'http://s3.amazonaws.com/ndnp-jpeg-surrogates/uuml_indurain_ver01/data/sn85058396/print/1917120701/0840.jpg'},\n",
       "  'region': {'toolName': 'rectangleTool',\n",
       "   'color': '#fe0000',\n",
       "   'x': 2930.7938787736675,\n",
       "   'y': 214.3306900288162,\n",
       "   'width': 884.9766970618034,\n",
       "   'height': 2820.868436508291,\n",
       "   'label': 'Illustration/Photo'},\n",
       "  'width': 6824,\n",
       "  'height': 9092,\n",
       "  'meta_data': {'set_key': 'http://chroniclingamerica.loc.gov/lccn/sn85058396/1917-12-07/ed-1/seq-11/',\n",
       "   'subject_url': 'http://chroniclingamerica.loc.gov/lccn/sn85058396/1917-12-07/ed-1/seq-11/',\n",
       "   'subject_description': 'The Ogden standard. December 07, 1917. Page 11',\n",
       "   'resize': '1.000000',\n",
       "   'alto': 'http://s3.amazonaws.com/ndnp-batches/uuml_indurain_ver01/data/sn85058396/print/1917120701/0840.xml'},\n",
       "  'data': {'values': [{'caption': 'BRITISH HOLD CAMBRAI GAINS\\nAttack after attack by the Germans against the British positions in the vicinity of Cambrai have been repulsed by General Haig during the past few days. One of the attacks smashed by the British was at Havincourt (1). It was at Gouzeaucourt (2) that American engineers Sunday came under fire of the Germans. They were saved when the British fired over their heads at the Germans.',\n",
       "     'category': 'Map'}],\n",
       "   'task_prompt': \"Enter picture's caption, illustrator or photographer and category.\"}},\n",
       " {'id': '5b7b075ed6342b0001002bd4',\n",
       "  'location': {'standard': 'http://s3.amazonaws.com/ndnp-jpeg-surrogates/uuml_indurain_ver01/data/sn85058396/print/1917100501/0047.jpg'},\n",
       "  'region': {'toolName': 'rectangleTool',\n",
       "   'color': '#fe0000',\n",
       "   'x': 233.65669672539894,\n",
       "   'y': 6065.653056536834,\n",
       "   'width': 1754.099290780142,\n",
       "   'height': 2664.6025568450987,\n",
       "   'label': 'Illustration/Photo'},\n",
       "  'width': 6608,\n",
       "  'height': 9169,\n",
       "  'meta_data': {'set_key': 'http://chroniclingamerica.loc.gov/lccn/sn85058396/1917-10-05/ed-1/seq-4/',\n",
       "   'subject_url': 'http://chroniclingamerica.loc.gov/lccn/sn85058396/1917-10-05/ed-1/seq-4/',\n",
       "   'subject_description': 'The Ogden standard. October 05, 1917. Page 4',\n",
       "   'resize': '1.000000',\n",
       "   'alto': 'http://s3.amazonaws.com/ndnp-batches/uuml_indurain_ver01/data/sn85058396/print/1917100501/0047.xml'},\n",
       "  'data': {'values': [{'caption': 'EXPERTS TEACHING WOMEN--AND SOME MEN--ECONOMY IN FOOD\\nFood Conservation Methods taught in Community Food Demonstration. Assistants in the uniform of the Food Administration.',\n",
       "     'category': 'Photograph'}],\n",
       "   'task_prompt': \"Enter picture's caption, illustrator or photographer and category.\"}}]"
      ]
     },
     "execution_count": 7,
     "metadata": {},
     "output_type": "execute_result"
    }
   ],
   "source": [
    "# Show a couple of data entries\n",
    "data[:2]"
   ]
  },
  {
   "cell_type": "code",
   "execution_count": 8,
   "metadata": {},
   "outputs": [],
   "source": [
    "# Restructure data for consistency: sometimes \n",
    "# the 'data' attribute is at root level; somtimes\n",
    "# it's nested under a 'values' attribute\n",
    "for i, doc in enumerate(data):\n",
    "    values_attrib = doc['data'].get('values')\n",
    "    if values_attrib: \n",
    "        data[i]['data'] = values_attrib[0]"
   ]
  },
  {
   "cell_type": "code",
   "execution_count": 9,
   "metadata": {},
   "outputs": [
    {
     "data": {
      "text/html": [
       "<div>\n",
       "<style scoped>\n",
       "    .dataframe tbody tr th:only-of-type {\n",
       "        vertical-align: middle;\n",
       "    }\n",
       "\n",
       "    .dataframe tbody tr th {\n",
       "        vertical-align: top;\n",
       "    }\n",
       "\n",
       "    .dataframe thead th {\n",
       "        text-align: right;\n",
       "    }\n",
       "</style>\n",
       "<table border=\"1\" class=\"dataframe\">\n",
       "  <thead>\n",
       "    <tr style=\"text-align: right;\">\n",
       "      <th></th>\n",
       "      <th>data_caption</th>\n",
       "      <th>data_category</th>\n",
       "      <th>data_creator</th>\n",
       "      <th>height</th>\n",
       "      <th>id</th>\n",
       "      <th>location_standard</th>\n",
       "      <th>meta_data_alto</th>\n",
       "      <th>meta_data_resize</th>\n",
       "      <th>meta_data_set_key</th>\n",
       "      <th>meta_data_subject_description</th>\n",
       "      <th>meta_data_subject_url</th>\n",
       "      <th>region_color</th>\n",
       "      <th>region_height</th>\n",
       "      <th>region_label</th>\n",
       "      <th>region_toolName</th>\n",
       "      <th>region_width</th>\n",
       "      <th>region_x</th>\n",
       "      <th>region_y</th>\n",
       "      <th>width</th>\n",
       "    </tr>\n",
       "  </thead>\n",
       "  <tbody>\n",
       "    <tr>\n",
       "      <th>0</th>\n",
       "      <td>BRITISH HOLD CAMBRAI GAINS\\nAttack after attac...</td>\n",
       "      <td>Map</td>\n",
       "      <td>NaN</td>\n",
       "      <td>9092</td>\n",
       "      <td>5b80678a6dc3580001001124</td>\n",
       "      <td>http://s3.amazonaws.com/ndnp-jpeg-surrogates/u...</td>\n",
       "      <td>http://s3.amazonaws.com/ndnp-batches/uuml_indu...</td>\n",
       "      <td>1.000000</td>\n",
       "      <td>http://chroniclingamerica.loc.gov/lccn/sn85058...</td>\n",
       "      <td>The Ogden standard. December 07, 1917. Page 11</td>\n",
       "      <td>http://chroniclingamerica.loc.gov/lccn/sn85058...</td>\n",
       "      <td>#fe0000</td>\n",
       "      <td>2820.868437</td>\n",
       "      <td>Illustration/Photo</td>\n",
       "      <td>rectangleTool</td>\n",
       "      <td>884.976697</td>\n",
       "      <td>2930.793879</td>\n",
       "      <td>214.330690</td>\n",
       "      <td>6824</td>\n",
       "    </tr>\n",
       "    <tr>\n",
       "      <th>1</th>\n",
       "      <td>EXPERTS TEACHING WOMEN--AND SOME MEN--ECONOMY ...</td>\n",
       "      <td>Photograph</td>\n",
       "      <td>NaN</td>\n",
       "      <td>9169</td>\n",
       "      <td>5b7b075ed6342b0001002bd4</td>\n",
       "      <td>http://s3.amazonaws.com/ndnp-jpeg-surrogates/u...</td>\n",
       "      <td>http://s3.amazonaws.com/ndnp-batches/uuml_indu...</td>\n",
       "      <td>1.000000</td>\n",
       "      <td>http://chroniclingamerica.loc.gov/lccn/sn85058...</td>\n",
       "      <td>The Ogden standard. October 05, 1917. Page 4</td>\n",
       "      <td>http://chroniclingamerica.loc.gov/lccn/sn85058...</td>\n",
       "      <td>#fe0000</td>\n",
       "      <td>2664.602557</td>\n",
       "      <td>Illustration/Photo</td>\n",
       "      <td>rectangleTool</td>\n",
       "      <td>1754.099291</td>\n",
       "      <td>233.656697</td>\n",
       "      <td>6065.653057</td>\n",
       "      <td>6608</td>\n",
       "    </tr>\n",
       "    <tr>\n",
       "      <th>2</th>\n",
       "      <td>Scenes with the Carl Hagenbeck and Wallace Circus</td>\n",
       "      <td>Photograph</td>\n",
       "      <td>NaN</td>\n",
       "      <td>6169</td>\n",
       "      <td>5b8071666dc358000100112d</td>\n",
       "      <td>http://s3.amazonaws.com/ndnp-jpeg-surrogates/u...</td>\n",
       "      <td>http://s3.amazonaws.com/ndnp-batches/uuml_bass...</td>\n",
       "      <td>1.000000</td>\n",
       "      <td>http://chroniclingamerica.loc.gov/lccn/sn85058...</td>\n",
       "      <td>The Logan Republican. July 14, 1917. Page 9</td>\n",
       "      <td>http://chroniclingamerica.loc.gov/lccn/sn85058...</td>\n",
       "      <td>#fe0000</td>\n",
       "      <td>2598.621354</td>\n",
       "      <td>Illustration/Photo</td>\n",
       "      <td>rectangleTool</td>\n",
       "      <td>1880.826748</td>\n",
       "      <td>1912.173832</td>\n",
       "      <td>3189.217116</td>\n",
       "      <td>4484</td>\n",
       "    </tr>\n",
       "  </tbody>\n",
       "</table>\n",
       "</div>"
      ],
      "text/plain": [
       "                                        data_caption data_category  \\\n",
       "0  BRITISH HOLD CAMBRAI GAINS\\nAttack after attac...           Map   \n",
       "1  EXPERTS TEACHING WOMEN--AND SOME MEN--ECONOMY ...    Photograph   \n",
       "2  Scenes with the Carl Hagenbeck and Wallace Circus    Photograph   \n",
       "\n",
       "  data_creator  height                        id  \\\n",
       "0          NaN    9092  5b80678a6dc3580001001124   \n",
       "1          NaN    9169  5b7b075ed6342b0001002bd4   \n",
       "2          NaN    6169  5b8071666dc358000100112d   \n",
       "\n",
       "                                   location_standard  \\\n",
       "0  http://s3.amazonaws.com/ndnp-jpeg-surrogates/u...   \n",
       "1  http://s3.amazonaws.com/ndnp-jpeg-surrogates/u...   \n",
       "2  http://s3.amazonaws.com/ndnp-jpeg-surrogates/u...   \n",
       "\n",
       "                                      meta_data_alto meta_data_resize  \\\n",
       "0  http://s3.amazonaws.com/ndnp-batches/uuml_indu...         1.000000   \n",
       "1  http://s3.amazonaws.com/ndnp-batches/uuml_indu...         1.000000   \n",
       "2  http://s3.amazonaws.com/ndnp-batches/uuml_bass...         1.000000   \n",
       "\n",
       "                                   meta_data_set_key  \\\n",
       "0  http://chroniclingamerica.loc.gov/lccn/sn85058...   \n",
       "1  http://chroniclingamerica.loc.gov/lccn/sn85058...   \n",
       "2  http://chroniclingamerica.loc.gov/lccn/sn85058...   \n",
       "\n",
       "                    meta_data_subject_description  \\\n",
       "0  The Ogden standard. December 07, 1917. Page 11   \n",
       "1    The Ogden standard. October 05, 1917. Page 4   \n",
       "2     The Logan Republican. July 14, 1917. Page 9   \n",
       "\n",
       "                               meta_data_subject_url region_color  \\\n",
       "0  http://chroniclingamerica.loc.gov/lccn/sn85058...      #fe0000   \n",
       "1  http://chroniclingamerica.loc.gov/lccn/sn85058...      #fe0000   \n",
       "2  http://chroniclingamerica.loc.gov/lccn/sn85058...      #fe0000   \n",
       "\n",
       "   region_height        region_label region_toolName  region_width  \\\n",
       "0    2820.868437  Illustration/Photo   rectangleTool    884.976697   \n",
       "1    2664.602557  Illustration/Photo   rectangleTool   1754.099291   \n",
       "2    2598.621354  Illustration/Photo   rectangleTool   1880.826748   \n",
       "\n",
       "      region_x     region_y  width  \n",
       "0  2930.793879   214.330690   6824  \n",
       "1   233.656697  6065.653057   6608  \n",
       "2  1912.173832  3189.217116   4484  "
      ]
     },
     "execution_count": 9,
     "metadata": {},
     "output_type": "execute_result"
    }
   ],
   "source": [
    "# Flatten data into dataframe\n",
    "df = json_normalize(data)\n",
    "# json_normalize uses periods in col names; change to underscore\n",
    "df.columns = df.columns.map(lambda x: x.replace('.', '_'))\n",
    "\n",
    "# Show a couple of dataframe entries\n",
    "df.head(3)"
   ]
  },
  {
   "cell_type": "code",
   "execution_count": null,
   "metadata": {},
   "outputs": [],
   "source": [
    "# # Drop columns we probably won't need\n",
    "# drop_cols = [\n",
    "#     'meta_data_resize',\n",
    "#     'region_color',\n",
    "#     'region_toolName',\n",
    "#     'region_label',\n",
    "# ]\n",
    "# for col in drop_cols:\n",
    "#     df.drop(col, axis=1, inplace=True)"
   ]
  },
  {
   "cell_type": "code",
   "execution_count": 10,
   "metadata": {},
   "outputs": [
    {
     "data": {
      "text/plain": [
       "data_caption                      object\n",
       "data_category                     object\n",
       "data_creator                      object\n",
       "height                             int64\n",
       "id                                object\n",
       "location_standard                 object\n",
       "meta_data_alto                    object\n",
       "meta_data_resize                  object\n",
       "meta_data_set_key                 object\n",
       "meta_data_subject_description     object\n",
       "meta_data_subject_url             object\n",
       "region_color                      object\n",
       "region_height                    float64\n",
       "region_label                      object\n",
       "region_toolName                   object\n",
       "region_width                     float64\n",
       "region_x                         float64\n",
       "region_y                         float64\n",
       "width                              int64\n",
       "dtype: object"
      ]
     },
     "execution_count": 10,
     "metadata": {},
     "output_type": "execute_result"
    }
   ],
   "source": [
    "# Show data types inferred by pandas\n",
    "df.dtypes"
   ]
  },
  {
   "cell_type": "code",
   "execution_count": 11,
   "metadata": {},
   "outputs": [],
   "source": [
    "# Convert NaNs in text columns to blanks\n",
    "obj_cols = list(df.select_dtypes(include=['object']).columns)\n",
    "for col in obj_cols:\n",
    "    df[col] = df[col].fillna('')"
   ]
  },
  {
   "cell_type": "code",
   "execution_count": 12,
   "metadata": {},
   "outputs": [
    {
     "data": {
      "text/plain": [
       "data_caption                     1778\n",
       "data_category                    1778\n",
       "data_creator                     1778\n",
       "height                           1778\n",
       "id                               1778\n",
       "location_standard                1778\n",
       "meta_data_alto                   1778\n",
       "meta_data_resize                 1778\n",
       "meta_data_set_key                1778\n",
       "meta_data_subject_description    1778\n",
       "meta_data_subject_url            1778\n",
       "region_color                     1778\n",
       "region_height                    1778\n",
       "region_label                     1778\n",
       "region_toolName                  1778\n",
       "region_width                     1778\n",
       "region_x                         1778\n",
       "region_y                         1778\n",
       "width                            1778\n",
       "dtype: int64"
      ]
     },
     "execution_count": 12,
     "metadata": {},
     "output_type": "execute_result"
    }
   ],
   "source": [
    "# Get colum counts\n",
    "df.count()"
   ]
  },
  {
   "cell_type": "code",
   "execution_count": 13,
   "metadata": {},
   "outputs": [],
   "source": [
    "# Add column that is an md5 hash of the image url,\n",
    "# to use as a uniqe image id\n",
    "import hashlib\n",
    "\n",
    "# func to return hash for a string\n",
    "def hashstr(s):\n",
    "    return hashlib.md5(s.encode('utf8')).hexdigest()\n",
    "\n",
    "# apply to new column\n",
    "df['img_url_hash'] = df.apply(lambda r: hashstr(r['location_standard']), axis=1)"
   ]
  },
  {
   "cell_type": "code",
   "execution_count": 14,
   "metadata": {},
   "outputs": [],
   "source": [
    "# Save data as sqlite db\n",
    "df.to_sql('data', eng, index=False, if_exists='replace')"
   ]
  },
  {
   "cell_type": "code",
   "execution_count": 15,
   "metadata": {},
   "outputs": [
    {
     "data": {
      "text/plain": [
       "data_caption                      object\n",
       "data_category                     object\n",
       "data_creator                      object\n",
       "height                             int64\n",
       "id                                object\n",
       "location_standard                 object\n",
       "meta_data_alto                    object\n",
       "meta_data_resize                  object\n",
       "meta_data_set_key                 object\n",
       "meta_data_subject_description     object\n",
       "meta_data_subject_url             object\n",
       "region_color                      object\n",
       "region_height                    float64\n",
       "region_label                      object\n",
       "region_toolName                   object\n",
       "region_width                     float64\n",
       "region_x                         float64\n",
       "region_y                         float64\n",
       "width                              int64\n",
       "img_url_hash                      object\n",
       "dtype: object"
      ]
     },
     "execution_count": 15,
     "metadata": {},
     "output_type": "execute_result"
    }
   ],
   "source": [
    "# Re-read data from sql and check data types\n",
    "pd.read_sql(\"select * from data\", eng).dtypes"
   ]
  },
  {
   "cell_type": "code",
   "execution_count": 16,
   "metadata": {},
   "outputs": [
    {
     "data": {
      "text/plain": [
       "data_caption                     1778\n",
       "data_category                    1778\n",
       "data_creator                     1778\n",
       "height                           1778\n",
       "id                               1778\n",
       "location_standard                1778\n",
       "meta_data_alto                   1778\n",
       "meta_data_resize                 1778\n",
       "meta_data_set_key                1778\n",
       "meta_data_subject_description    1778\n",
       "meta_data_subject_url            1778\n",
       "region_color                     1778\n",
       "region_height                    1778\n",
       "region_label                     1778\n",
       "region_toolName                  1778\n",
       "region_width                     1778\n",
       "region_x                         1778\n",
       "region_y                         1778\n",
       "width                            1778\n",
       "img_url_hash                     1778\n",
       "dtype: int64"
      ]
     },
     "execution_count": 16,
     "metadata": {},
     "output_type": "execute_result"
    }
   ],
   "source": [
    "# Re-read data from sql and check counts\n",
    "pd.read_sql(\"select * from data\", eng).count()"
   ]
  },
  {
   "cell_type": "markdown",
   "metadata": {},
   "source": [
    "## Image files"
   ]
  },
  {
   "cell_type": "code",
   "execution_count": 17,
   "metadata": {},
   "outputs": [
    {
     "data": {
      "text/plain": [
       "array([[<matplotlib.axes._subplots.AxesSubplot object at 0x7f5287598940>]],\n",
       "      dtype=object)"
      ]
     },
     "execution_count": 17,
     "metadata": {},
     "output_type": "execute_result"
    },
    {
     "data": {
      "image/png": "[encoded data removed]",
      "text/plain": [
       "<Figure size 432x288 with 1 Axes>"
      ]
     },
     "metadata": {},
     "output_type": "display_data"
    }
   ],
   "source": [
    "# Look at image heights\n",
    "df.hist(column='height')"
   ]
  },
  {
   "cell_type": "code",
   "execution_count": 18,
   "metadata": {},
   "outputs": [
    {
     "data": {
      "text/plain": [
       "array([[<matplotlib.axes._subplots.AxesSubplot object at 0x7f5287c38cf8>]],\n",
       "      dtype=object)"
      ]
     },
     "execution_count": 18,
     "metadata": {},
     "output_type": "execute_result"
    },
    {
     "data": {
      "image/png": "[encoded data removed]",
      "text/plain": [
       "<Figure size 432x288 with 1 Axes>"
      ]
     },
     "metadata": {},
     "output_type": "display_data"
    }
   ],
   "source": [
    "# look at image widths\n",
    "df.hist(column='width')"
   ]
  },
  {
   "cell_type": "code",
   "execution_count": 16,
   "metadata": {},
   "outputs": [
    {
     "name": "stderr",
     "output_type": "stream",
     "text": [
      "100%|██████████| 1106/1106 [00:00<00:00, 3134.60it/s]\n"
     ]
    }
   ],
   "source": [
    "# Download image corresponding to each unique image hash,\n",
    "sql = \"select distinct location_standard, img_url_hash from data\"\n",
    "img_list = list(eng.execute(sql))\n",
    "for row in tqdm(img_list):\n",
    "    uhash = row[1]\n",
    "    url = row[0]\n",
    "\n",
    "    # image filename is based on url hash\n",
    "    path = 'images/{}.jpg'.format(uhash)\n",
    "    \n",
    "    # download, if file doesn't exist\n",
    "    if not os.path.exists(path):\n",
    "        r = requests.get(url, stream=True)\n",
    "        with open(path, 'wb') as f:\n",
    "            for chunk in r.iter_content(2048):\n",
    "                if chunk:\n",
    "                    f.write(chunk)"
   ]
  },
  {
   "cell_type": "code",
   "execution_count": 27,
   "metadata": {},
   "outputs": [
    {
     "data": {
      "text/plain": [
       "1106"
      ]
     },
     "execution_count": 27,
     "metadata": {},
     "output_type": "execute_result"
    }
   ],
   "source": [
    "# Check number of image files \n",
    "len(glob('images/*.jpg'))"
   ]
  },
  {
   "cell_type": "markdown",
   "metadata": {},
   "source": [
    "## Manipulate image files\n",
    "Image files are very large. Resize."
   ]
  },
  {
   "cell_type": "code",
   "execution_count": null,
   "metadata": {
    "scrolled": true
   },
   "outputs": [],
   "source": [
    "import os, warnings\n",
    "from shutil import copy2\n",
    "from glob import glob\n",
    "\n",
    "from skimage import io, exposure, transform\n",
    "from tqdm import tqdm\n",
    "\n",
    "imgdir = 'images/'\n",
    "modimgdir = 'images/modified/'\n",
    "\n",
    "if not os.path.exists(modimgdir):\n",
    "    os.makedirs(modimgdir)\n",
    "\n",
    "for imgpath in tqdm(glob('images/*.jpg')):\n",
    "    with warnings.catch_warnings(): # suppress skimage warnings\n",
    "        warnings.simplefilter(\"ignore\")\n",
    "\n",
    "        fname = os.path.basename(imgpath)\n",
    "    \n",
    "        img = io.imread(imgpath)\n",
    "        scale = 1024 / img.shape[0] # scale to get a max height of 1024\n",
    "        if scale < 1:\n",
    "            img = transform.rescale(img, scale, anti_aliasing=True, multichannel=False, mode='reflect')\n",
    "        io.imsave(modimgdir + fname, img, quality=90)\n"
   ]
  },
  {
   "cell_type": "code",
   "execution_count": null,
   "metadata": {},
   "outputs": [],
   "source": []
  }
 ],
 "metadata": {
  "kernelspec": {
   "display_name": "Python 3",
   "language": "python",
   "name": "python3"
  },
  "language_info": {
   "codemirror_mode": {
    "name": "ipython",
    "version": 3
   },
   "file_extension": ".py",
   "mimetype": "text/x-python",
   "name": "python",
   "nbconvert_exporter": "python",
   "pygments_lexer": "ipython3",
   "version": "3.6.5"
  }
 },
 "nbformat": 4,
 "nbformat_minor": 2
}
