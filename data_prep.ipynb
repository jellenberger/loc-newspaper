{
 "cells": [
  {
   "cell_type": "code",
   "execution_count": 43,
   "metadata": {},
   "outputs": [],
   "source": [
    "from glob import glob\n",
    "import json\n",
    "import os\n",
    "import requests\n",
    "\n",
    "import pandas as pd\n",
    "from pandas.io.json import json_normalize\n",
    "from sqlalchemy import create_engine\n",
    "from tqdm import tqdm\n",
    "\n",
    "%matplotlib inline"
   ]
  },
  {
   "cell_type": "code",
   "execution_count": 24,
   "metadata": {},
   "outputs": [],
   "source": [
    "eng = create_engine('sqlite:///db/data.sqlite3', echo=False)"
   ]
  },
  {
   "cell_type": "code",
   "execution_count": 26,
   "metadata": {},
   "outputs": [
    {
     "name": "stdout",
     "output_type": "stream",
     "text": [
      "mkdir: cannot create directory ‘images’: File exists\n",
      "mkdir: cannot create directory ‘data’: File exists\n",
      "mkdir: cannot create directory ‘db’: File exists\n"
     ]
    }
   ],
   "source": [
    "# !mkdir images\n",
    "# !mkdir data\n",
    "# !mkdir db"
   ]
  },
  {
   "cell_type": "markdown",
   "metadata": {},
   "source": [
    "## Get image data"
   ]
  },
  {
   "cell_type": "code",
   "execution_count": 29,
   "metadata": {},
   "outputs": [],
   "source": [
    "# !wget -o data/data.json http://beyondwords.labs.loc.gov/data"
   ]
  },
  {
   "cell_type": "code",
   "execution_count": 2,
   "metadata": {},
   "outputs": [],
   "source": [
    "# data downloaded from http://beyondwords.labs.loc.gov/#/\n",
    "with open('data/data.json') as jsonfile:\n",
    "    data = json.load(jsonfile)['data']"
   ]
  },
  {
   "cell_type": "code",
   "execution_count": 3,
   "metadata": {},
   "outputs": [
    {
     "data": {
      "text/plain": [
       "[{'id': '5b58d934536f120001000899',\n",
       "  'location': {'standard': 'http://s3.amazonaws.com/ndnp-jpeg-surrogates/iune_edition_ver02/data/sn92053934/00295872640/1917051101/0140.jpg'},\n",
       "  'region': {'toolName': 'rectangleTool',\n",
       "   'color': '#fe0000',\n",
       "   'x': 894.7970970281847,\n",
       "   'y': 476.34528054483155,\n",
       "   'width': 814.6840109640661,\n",
       "   'height': 1504.716867515449,\n",
       "   'label': 'Illustration/Photo'},\n",
       "  'width': 6064,\n",
       "  'height': 7615,\n",
       "  'meta_data': {'set_key': 'http://chroniclingamerica.loc.gov/lccn/sn92053934/1917-05-11/ed-1/seq-11/',\n",
       "   'subject_url': 'http://chroniclingamerica.loc.gov/lccn/sn92053934/1917-05-11/ed-1/seq-11/',\n",
       "   'subject_description': 'Rock Island Argus. May 11, 1917. Page 11',\n",
       "   'resize': '1.000000',\n",
       "   'alto': 'http://s3.amazonaws.com/ndnp-batches/iune_edition_ver02/data/sn92053934/00295872640/1917051101/0140.xml'},\n",
       "  'data': {'caption': 'TAKES OLD POST IN ROCK ISLAND AGAIN\\nGeneral Alexander Mackenzie.',\n",
       "   'category': 'Photograph'}},\n",
       " {'id': '5b281840d6342b0001001ade',\n",
       "  'location': {'standard': 'http://s3.amazonaws.com/ndnp-jpeg-surrogates/idhi_eliot_ver01/data/sn86091188/00295869148/1918012501/1253.jpg'},\n",
       "  'region': {'toolName': 'rectangleTool',\n",
       "   'color': '#fe0000',\n",
       "   'x': 3067.6320093431564,\n",
       "   'y': 4294.709435033802,\n",
       "   'width': 731.5164813767933,\n",
       "   'height': 1708.4448521782815,\n",
       "   'label': 'Illustration/Photo'},\n",
       "  'width': 4592,\n",
       "  'height': 6752,\n",
       "  'meta_data': {'set_key': 'http://chroniclingamerica.loc.gov/lccn/sn86091188/1918-01-25/ed-1/seq-6/',\n",
       "   'subject_url': 'http://chroniclingamerica.loc.gov/lccn/sn86091188/1918-01-25/ed-1/seq-6/',\n",
       "   'subject_description': 'The Idaho recorder. January 25, 1918. Page 6',\n",
       "   'resize': '1.000000',\n",
       "   'alto': 'http://s3.amazonaws.com/ndnp-batches/idhi_eliot_ver01/data/sn86091188/00295869148/1918012501/1253.xml'},\n",
       "  'data': {'values': [{'caption': 'CHARLES W. DYSON\\nCharles W Dyson is one of the American navy officers recently promoted to the rank of rear admiral. He is head of the designing room of the bureau of steam engineering in the navy department.',\n",
       "     'category': 'Photograph',\n",
       "     'creator': 'HARRIS & EWING'}],\n",
       "   'task_prompt': \"Enter picture's caption, illustrator or photographer and category.\"}}]"
      ]
     },
     "execution_count": 3,
     "metadata": {},
     "output_type": "execute_result"
    }
   ],
   "source": [
    "data[:2]"
   ]
  },
  {
   "cell_type": "code",
   "execution_count": 4,
   "metadata": {},
   "outputs": [],
   "source": [
    "# the json data contains some inconsistencies: sometimes \n",
    "# the 'data' attribute is sometimes at root level, somtimes\n",
    "# nested in a single-item list (under a 'values' attribute)\n",
    "\n",
    "# move 'data' attribute to root if necessary\n",
    "for i, doc in enumerate(data):\n",
    "    values_attrib = doc['data'].get('values')\n",
    "    if values_attrib: \n",
    "        data[i]['data'] = values_attrib[0]"
   ]
  },
  {
   "cell_type": "code",
   "execution_count": 5,
   "metadata": {},
   "outputs": [
    {
     "data": {
      "text/html": [
       "<div>\n",
       "<style scoped>\n",
       "    .dataframe tbody tr th:only-of-type {\n",
       "        vertical-align: middle;\n",
       "    }\n",
       "\n",
       "    .dataframe tbody tr th {\n",
       "        vertical-align: top;\n",
       "    }\n",
       "\n",
       "    .dataframe thead th {\n",
       "        text-align: right;\n",
       "    }\n",
       "</style>\n",
       "<table border=\"1\" class=\"dataframe\">\n",
       "  <thead>\n",
       "    <tr style=\"text-align: right;\">\n",
       "      <th></th>\n",
       "      <th>data_caption</th>\n",
       "      <th>data_category</th>\n",
       "      <th>data_creator</th>\n",
       "      <th>height</th>\n",
       "      <th>id</th>\n",
       "      <th>location_standard</th>\n",
       "      <th>meta_data_alto</th>\n",
       "      <th>meta_data_resize</th>\n",
       "      <th>meta_data_set_key</th>\n",
       "      <th>meta_data_subject_description</th>\n",
       "      <th>meta_data_subject_url</th>\n",
       "      <th>region_color</th>\n",
       "      <th>region_height</th>\n",
       "      <th>region_label</th>\n",
       "      <th>region_toolName</th>\n",
       "      <th>region_width</th>\n",
       "      <th>region_x</th>\n",
       "      <th>region_y</th>\n",
       "      <th>width</th>\n",
       "    </tr>\n",
       "  </thead>\n",
       "  <tbody>\n",
       "    <tr>\n",
       "      <th>0</th>\n",
       "      <td>TAKES OLD POST IN ROCK ISLAND AGAIN\\nGeneral A...</td>\n",
       "      <td>Photograph</td>\n",
       "      <td>NaN</td>\n",
       "      <td>7615</td>\n",
       "      <td>5b58d934536f120001000899</td>\n",
       "      <td>http://s3.amazonaws.com/ndnp-jpeg-surrogates/i...</td>\n",
       "      <td>http://s3.amazonaws.com/ndnp-batches/iune_edit...</td>\n",
       "      <td>1.000000</td>\n",
       "      <td>http://chroniclingamerica.loc.gov/lccn/sn92053...</td>\n",
       "      <td>Rock Island Argus. May 11, 1917. Page 11</td>\n",
       "      <td>http://chroniclingamerica.loc.gov/lccn/sn92053...</td>\n",
       "      <td>#fe0000</td>\n",
       "      <td>1504.716868</td>\n",
       "      <td>Illustration/Photo</td>\n",
       "      <td>rectangleTool</td>\n",
       "      <td>814.684011</td>\n",
       "      <td>894.797097</td>\n",
       "      <td>476.345281</td>\n",
       "      <td>6064</td>\n",
       "    </tr>\n",
       "    <tr>\n",
       "      <th>1</th>\n",
       "      <td>CHARLES W. DYSON\\nCharles W Dyson is one of th...</td>\n",
       "      <td>Photograph</td>\n",
       "      <td>HARRIS &amp; EWING</td>\n",
       "      <td>6752</td>\n",
       "      <td>5b281840d6342b0001001ade</td>\n",
       "      <td>http://s3.amazonaws.com/ndnp-jpeg-surrogates/i...</td>\n",
       "      <td>http://s3.amazonaws.com/ndnp-batches/idhi_elio...</td>\n",
       "      <td>1.000000</td>\n",
       "      <td>http://chroniclingamerica.loc.gov/lccn/sn86091...</td>\n",
       "      <td>The Idaho recorder. January 25, 1918. Page 6</td>\n",
       "      <td>http://chroniclingamerica.loc.gov/lccn/sn86091...</td>\n",
       "      <td>#fe0000</td>\n",
       "      <td>1708.444852</td>\n",
       "      <td>Illustration/Photo</td>\n",
       "      <td>rectangleTool</td>\n",
       "      <td>731.516481</td>\n",
       "      <td>3067.632009</td>\n",
       "      <td>4294.709435</td>\n",
       "      <td>4592</td>\n",
       "    </tr>\n",
       "    <tr>\n",
       "      <th>2</th>\n",
       "      <td>MAJ. HAROLD E. HARTLEY\\nMaj. Harold Evans Hart...</td>\n",
       "      <td>Photograph</td>\n",
       "      <td>International Film Service</td>\n",
       "      <td>6680</td>\n",
       "      <td>5b281742d6342b0001001adc</td>\n",
       "      <td>http://s3.amazonaws.com/ndnp-jpeg-surrogates/i...</td>\n",
       "      <td>http://s3.amazonaws.com/ndnp-batches/idhi_elio...</td>\n",
       "      <td>1.000000</td>\n",
       "      <td>http://chroniclingamerica.loc.gov/lccn/sn88056...</td>\n",
       "      <td>The Challis messenger. October 30, 1918. Page 2</td>\n",
       "      <td>http://chroniclingamerica.loc.gov/lccn/sn88056...</td>\n",
       "      <td>#fe0000</td>\n",
       "      <td>1515.405322</td>\n",
       "      <td>Illustration/Photo</td>\n",
       "      <td>rectangleTool</td>\n",
       "      <td>689.619195</td>\n",
       "      <td>2301.653205</td>\n",
       "      <td>4221.172506</td>\n",
       "      <td>4432</td>\n",
       "    </tr>\n",
       "  </tbody>\n",
       "</table>\n",
       "</div>"
      ],
      "text/plain": [
       "                                        data_caption data_category  \\\n",
       "0  TAKES OLD POST IN ROCK ISLAND AGAIN\\nGeneral A...    Photograph   \n",
       "1  CHARLES W. DYSON\\nCharles W Dyson is one of th...    Photograph   \n",
       "2  MAJ. HAROLD E. HARTLEY\\nMaj. Harold Evans Hart...    Photograph   \n",
       "\n",
       "                 data_creator  height                        id  \\\n",
       "0                         NaN    7615  5b58d934536f120001000899   \n",
       "1              HARRIS & EWING    6752  5b281840d6342b0001001ade   \n",
       "2  International Film Service    6680  5b281742d6342b0001001adc   \n",
       "\n",
       "                                   location_standard  \\\n",
       "0  http://s3.amazonaws.com/ndnp-jpeg-surrogates/i...   \n",
       "1  http://s3.amazonaws.com/ndnp-jpeg-surrogates/i...   \n",
       "2  http://s3.amazonaws.com/ndnp-jpeg-surrogates/i...   \n",
       "\n",
       "                                      meta_data_alto meta_data_resize  \\\n",
       "0  http://s3.amazonaws.com/ndnp-batches/iune_edit...         1.000000   \n",
       "1  http://s3.amazonaws.com/ndnp-batches/idhi_elio...         1.000000   \n",
       "2  http://s3.amazonaws.com/ndnp-batches/idhi_elio...         1.000000   \n",
       "\n",
       "                                   meta_data_set_key  \\\n",
       "0  http://chroniclingamerica.loc.gov/lccn/sn92053...   \n",
       "1  http://chroniclingamerica.loc.gov/lccn/sn86091...   \n",
       "2  http://chroniclingamerica.loc.gov/lccn/sn88056...   \n",
       "\n",
       "                     meta_data_subject_description  \\\n",
       "0         Rock Island Argus. May 11, 1917. Page 11   \n",
       "1     The Idaho recorder. January 25, 1918. Page 6   \n",
       "2  The Challis messenger. October 30, 1918. Page 2   \n",
       "\n",
       "                               meta_data_subject_url region_color  \\\n",
       "0  http://chroniclingamerica.loc.gov/lccn/sn92053...      #fe0000   \n",
       "1  http://chroniclingamerica.loc.gov/lccn/sn86091...      #fe0000   \n",
       "2  http://chroniclingamerica.loc.gov/lccn/sn88056...      #fe0000   \n",
       "\n",
       "   region_height        region_label region_toolName  region_width  \\\n",
       "0    1504.716868  Illustration/Photo   rectangleTool    814.684011   \n",
       "1    1708.444852  Illustration/Photo   rectangleTool    731.516481   \n",
       "2    1515.405322  Illustration/Photo   rectangleTool    689.619195   \n",
       "\n",
       "      region_x     region_y  width  \n",
       "0   894.797097   476.345281   6064  \n",
       "1  3067.632009  4294.709435   4592  \n",
       "2  2301.653205  4221.172506   4432  "
      ]
     },
     "execution_count": 5,
     "metadata": {},
     "output_type": "execute_result"
    }
   ],
   "source": [
    "# flatten the data, create dataframe\n",
    "df = json_normalize(data)\n",
    "# json_normalize uses periods in col names; change to underscore\n",
    "df.columns = df.columns.map(lambda x: x.replace('.', '_'))\n",
    "\n",
    "df.head(3)"
   ]
  },
  {
   "cell_type": "code",
   "execution_count": 6,
   "metadata": {},
   "outputs": [],
   "source": [
    "# drop columns we probably won't need\n",
    "drop_cols = [\n",
    "    'meta_data_resize',\n",
    "    'region_color',\n",
    "    'region_toolName',\n",
    "    'region_label',\n",
    "]\n",
    "for col in drop_cols:\n",
    "    df.drop(col, axis=1, inplace=True)"
   ]
  },
  {
   "cell_type": "code",
   "execution_count": 7,
   "metadata": {},
   "outputs": [
    {
     "data": {
      "text/plain": [
       "data_caption                      object\n",
       "data_category                     object\n",
       "data_creator                      object\n",
       "height                             int64\n",
       "id                                object\n",
       "location_standard                 object\n",
       "meta_data_alto                    object\n",
       "meta_data_set_key                 object\n",
       "meta_data_subject_description     object\n",
       "meta_data_subject_url             object\n",
       "region_height                    float64\n",
       "region_width                     float64\n",
       "region_x                         float64\n",
       "region_y                         float64\n",
       "width                              int64\n",
       "dtype: object"
      ]
     },
     "execution_count": 7,
     "metadata": {},
     "output_type": "execute_result"
    }
   ],
   "source": [
    "# show data types that pandas has inferred\n",
    "df.dtypes"
   ]
  },
  {
   "cell_type": "code",
   "execution_count": 8,
   "metadata": {},
   "outputs": [
    {
     "data": {
      "text/plain": [
       "data_caption                     1488\n",
       "data_category                    1489\n",
       "data_creator                      431\n",
       "height                           1503\n",
       "id                               1503\n",
       "location_standard                1503\n",
       "meta_data_alto                   1503\n",
       "meta_data_set_key                1503\n",
       "meta_data_subject_description    1503\n",
       "meta_data_subject_url            1503\n",
       "region_height                    1503\n",
       "region_width                     1503\n",
       "region_x                         1503\n",
       "region_y                         1503\n",
       "width                            1503\n",
       "dtype: int64"
      ]
     },
     "execution_count": 8,
     "metadata": {},
     "output_type": "execute_result"
    }
   ],
   "source": [
    "df.count()"
   ]
  },
  {
   "cell_type": "code",
   "execution_count": 9,
   "metadata": {},
   "outputs": [],
   "source": [
    "# convert NaNs to blanks in text columns that have missing columns\n",
    "na_blank_cols = ['data_caption', 'data_category', 'data_creator']\n",
    "for col in na_blank_cols:\n",
    "    df[col] = df[col].fillna('')\n"
   ]
  },
  {
   "cell_type": "code",
   "execution_count": 10,
   "metadata": {},
   "outputs": [],
   "source": [
    "# add a column that is an md5 hash of the image url,\n",
    "# we'll use this as an image identifier\n",
    "\n",
    "import hashlib\n",
    "\n",
    "# func to return hash for a string\n",
    "def hashstr(s):\n",
    "    return hashlib.md5(s.encode('utf8')).hexdigest()\n",
    "\n",
    "# apply to new column\n",
    "df['img_url_hash'] = df.apply(lambda r: hashstr(r['location_standard']), axis = 1)"
   ]
  },
  {
   "cell_type": "code",
   "execution_count": 21,
   "metadata": {},
   "outputs": [],
   "source": [
    "# save data as sqlite db\n",
    "df.to_sql('data', eng, index=False, if_exists='replace')"
   ]
  },
  {
   "cell_type": "code",
   "execution_count": 22,
   "metadata": {},
   "outputs": [
    {
     "data": {
      "text/plain": [
       "data_caption                      object\n",
       "data_category                     object\n",
       "data_creator                      object\n",
       "height                             int64\n",
       "id                                object\n",
       "location_standard                 object\n",
       "meta_data_alto                    object\n",
       "meta_data_set_key                 object\n",
       "meta_data_subject_description     object\n",
       "meta_data_subject_url             object\n",
       "region_height                    float64\n",
       "region_width                     float64\n",
       "region_x                         float64\n",
       "region_y                         float64\n",
       "width                              int64\n",
       "img_url_hash                      object\n",
       "dtype: object"
      ]
     },
     "execution_count": 22,
     "metadata": {},
     "output_type": "execute_result"
    }
   ],
   "source": [
    "# re-read data from sql and check data types\n",
    "pd.read_sql(\"select * from data\", eng).dtypes"
   ]
  },
  {
   "cell_type": "code",
   "execution_count": 23,
   "metadata": {},
   "outputs": [
    {
     "data": {
      "text/plain": [
       "data_caption                     1503\n",
       "data_category                    1503\n",
       "data_creator                     1503\n",
       "height                           1503\n",
       "id                               1503\n",
       "location_standard                1503\n",
       "meta_data_alto                   1503\n",
       "meta_data_set_key                1503\n",
       "meta_data_subject_description    1503\n",
       "meta_data_subject_url            1503\n",
       "region_height                    1503\n",
       "region_width                     1503\n",
       "region_x                         1503\n",
       "region_y                         1503\n",
       "width                            1503\n",
       "img_url_hash                     1503\n",
       "dtype: int64"
      ]
     },
     "execution_count": 23,
     "metadata": {},
     "output_type": "execute_result"
    }
   ],
   "source": [
    "# re-read data from sql and check counts\n",
    "pd.read_sql(\"select * from data\", eng).count()"
   ]
  },
  {
   "cell_type": "markdown",
   "metadata": {},
   "source": [
    "## Get image Files"
   ]
  },
  {
   "cell_type": "code",
   "execution_count": 44,
   "metadata": {
    "scrolled": true
   },
   "outputs": [
    {
     "name": "stderr",
     "output_type": "stream",
     "text": [
      "1503it [00:00, 109361.58it/s]\n"
     ]
    }
   ],
   "source": [
    "sql = \"select location_standard, img_url_hash from data\"\n",
    "result = eng.execute(sql)\n",
    "for row in tqdm(result):\n",
    "    uhash = row[1]\n",
    "    url = row[0]\n",
    "    # image filename is based on url hash\n",
    "    path = 'images/{}.jpg'.format(uhash)\n",
    "    # skip if we've already downloaded this file\n",
    "    if os.path.exists(path):\n",
    "        continue\n",
    "    # otherwise, download and save it\n",
    "    else:\n",
    "        r = requests.get(url, stream=True)\n",
    "        # if http error, skip and print error\n",
    "        if not r.status_code == 200:\n",
    "            print('{} error for {}'.format(r.status_code, url))\n",
    "            continue\n",
    "        else:\n",
    "            with open(path, 'wb') as f:\n",
    "                for chunk in r:\n",
    "                    f.write(chunk)"
   ]
  },
  {
   "cell_type": "code",
   "execution_count": 16,
   "metadata": {},
   "outputs": [
    {
     "data": {
      "text/plain": [
       "array([[<matplotlib.axes._subplots.AxesSubplot object at 0x7f00ee416dd8>]], dtype=object)"
      ]
     },
     "execution_count": 16,
     "metadata": {},
     "output_type": "execute_result"
    },
    {
     "data": {
      "image/png": "[encoded data removed]",
      "text/plain": [
       "<Figure size 432x288 with 1 Axes>"
      ]
     },
     "metadata": {},
     "output_type": "display_data"
    }
   ],
   "source": [
    "df.hist(column='height')"
   ]
  },
  {
   "cell_type": "code",
   "execution_count": 15,
   "metadata": {},
   "outputs": [
    {
     "data": {
      "text/plain": [
       "array([[<matplotlib.axes._subplots.AxesSubplot object at 0x7f00ee49af98>]], dtype=object)"
      ]
     },
     "execution_count": 15,
     "metadata": {},
     "output_type": "execute_result"
    },
    {
     "data": {
      "image/png": "[encoded data removed]",
      "text/plain": [
       "<Figure size 432x288 with 1 Axes>"
      ]
     },
     "metadata": {},
     "output_type": "display_data"
    }
   ],
   "source": [
    "df.hist(column='width')"
   ]
  }
 ],
 "metadata": {
  "kernelspec": {
   "display_name": "Python 3",
   "language": "python",
   "name": "python3"
  },
  "language_info": {
   "codemirror_mode": {
    "name": "ipython",
    "version": 3
   },
   "file_extension": ".py",
   "mimetype": "text/x-python",
   "name": "python",
   "nbconvert_exporter": "python",
   "pygments_lexer": "ipython3",
   "version": "3.6.4"
  }
 },
 "nbformat": 4,
 "nbformat_minor": 2
}
